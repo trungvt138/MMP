{
 "cells": [
  {
   "cell_type": "code",
   "execution_count": 1,
   "metadata": {},
   "outputs": [],
   "source": [
    "%matplotlib inline\n",
    "\n",
    "# Import liberies\n",
    "from PIL import Image\n",
    "import   numpy  as np   \n",
    "import   matplotlib                 # https://matplotlib.org/3.1.1/tutorials/index.html\n",
    "import   matplotlib.pyplot as plt   # https://matplotlib.org/tutorials/introductory/pyplot.html\n",
    "import   time"
   ]
  },
  {
   "cell_type": "code",
   "execution_count": 2,
   "metadata": {},
   "outputs": [],
   "source": [
    "def MyCircleKern(radius):\n",
    "    # define the size of the kernel\n",
    "    kernel_size = (2 * radius) + 1\n",
    "\n",
    "    # create a meshgrid to represent the coordinates of the kernel\n",
    "    x, y = np.meshgrid(np.arange(kernel_size), np.arange(kernel_size))\n",
    "\n",
    "    # calculate the distance of each pixel from the center of the kernel\n",
    "    distance = np.sqrt((x - radius)**2 + (y - radius)**2)\n",
    "\n",
    "    # create a circular kernel by setting all pixels within the radius to 1 and the rest to 0\n",
    "    kernel = np.zeros((kernel_size, kernel_size), dtype=np.uint8)\n",
    "    kernel[distance <= radius] = 1\n",
    "    \n",
    "    return kernel"
   ]
  },
  {
   "cell_type": "code",
   "execution_count": 3,
   "metadata": {},
   "outputs": [],
   "source": [
    "def MyErode(image, kernel):\n",
    "    # calculate the size of the padding around the image\n",
    "    border = kernel.shape[0] // 2\n",
    "    \n",
    "    # create a new image with padded borders\n",
    "    padded_image = np.pad(image, border, mode='constant', constant_values=0)\n",
    "    \n",
    "    # create an output image with the same size as the input image\n",
    "    output = np.zeros_like(image)\n",
    "    \n",
    "    # iterate over each pixel in the image\n",
    "    for i in range(border, padded_image.shape[0] - border):\n",
    "        for j in range(border, padded_image.shape[1] - border):\n",
    "            # extract the current region of interest (ROI) from the padded image\n",
    "            roi = padded_image[i - border:i + border + 1, j - border:j + border + 1]\n",
    "            \n",
    "            # apply the erosion operation by taking the minimum value in the ROI\n",
    "            output[i - border, j - border] = np.min(roi * kernel)\n",
    "    \n",
    "    return output"
   ]
  },
  {
   "cell_type": "code",
   "execution_count": 4,
   "metadata": {},
   "outputs": [],
   "source": [
    "# def MyDilate(img, radius):"
   ]
  },
  {
   "cell_type": "code",
   "execution_count": 5,
   "metadata": {},
   "outputs": [],
   "source": [
    "# def MyOpening(img, radius):"
   ]
  },
  {
   "cell_type": "code",
   "execution_count": 6,
   "metadata": {},
   "outputs": [],
   "source": [
    "# def MyClosing(img, radius):"
   ]
  },
  {
   "cell_type": "code",
   "execution_count": 7,
   "metadata": {},
   "outputs": [
    {
     "data": {
      "image/png": "[encoded data removed]",
      "text/plain": [
       "<Figure size 432x288 with 1 Axes>"
      ]
     },
     "metadata": {
      "needs_background": "light"
     },
     "output_type": "display_data"
    }
   ],
   "source": [
    "img = Image.open(\"coins.bmp\")\n",
    "img2 = np.array(img)\n",
    "\n",
    "plt.imshow(MyErode(img, MyCircleKern(3)), cmap='gray')\n",
    "plt.axis(False)\n",
    "plt.show()"
   ]
  },
  {
   "cell_type": "code",
   "execution_count": null,
   "metadata": {},
   "outputs": [],
   "source": []
  }
 ],
 "metadata": {
  "kernelspec": {
   "display_name": "Python 3 (ipykernel)",
   "language": "python",
   "name": "python3"
  },
  "language_info": {
   "codemirror_mode": {
    "name": "ipython",
    "version": 3
   },
   "file_extension": ".py",
   "mimetype": "text/x-python",
   "name": "python",
   "nbconvert_exporter": "python",
   "pygments_lexer": "ipython3",
   "version": "3.10.4"
  }
 },
 "nbformat": 4,
 "nbformat_minor": 2
}
