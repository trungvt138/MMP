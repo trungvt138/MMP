{
 "cells": [
  {
   "attachments": {},
   "cell_type": "markdown",
   "metadata": {},
   "source": [
    "### Dieses Notebook zeigt ein einfaches Beispiel für ein flaches neuronales Netz zum Trainieren des MNIST-Datensatzes.\n",
    "\n",
    "Laden der nötigen Bibliotheken:"
   ]
  },
  {
   "cell_type": "code",
   "execution_count": 1,
   "metadata": {},
   "outputs": [],
   "source": [
    "import keras\n",
    "from keras.datasets import mnist\n",
    "from keras.models import Sequential\n",
    "from keras.layers import Flatten, Dense\n",
    "from keras.optimizers import SGD, RMSprop, Adam \n",
    "from keras import regularizers\n",
    "import numpy as np\n",
    "import matplotlib.pyplot as plt"
   ]
  },
  {
   "attachments": {},
   "cell_type": "markdown",
   "metadata": {},
   "source": [
    "Laden und Aufbereiten der Trainingsdaten:"
   ]
  },
  {
   "cell_type": "code",
   "execution_count": 2,
   "metadata": {},
   "outputs": [],
   "source": [
    "(x_train, y_train), (x_test, y_test) = mnist.load_data()\n",
    "x_train = x_train / 255.0\n",
    "x_test  = x_test / 255.0\n",
    "y_train = keras.utils.to_categorical(y_train, 10)\n",
    "y_test =  keras.utils.to_categorical(y_test,  10)"
   ]
  },
  {
   "attachments": {},
   "cell_type": "markdown",
   "metadata": {},
   "source": [
    "Definition des Neuronalen Netzes:\n",
    "(Probieren Sie aus, wie sich das Netz verhält, wenn man statt 'relu' 'tanh' oder 'sigmoid' als Aktivierungsfunktion verwendet und wenn man L2-Regularisierung hinzufügt)"
   ]
  },
  {
   "cell_type": "code",
   "execution_count": 3,
   "metadata": {},
   "outputs": [],
   "source": [
    "model = Sequential([\n",
    "    Flatten(input_shape = (28, 28)),\n",
    "    Dense(1500, activation='tanh'),\n",
    "    Dense(1500, activation='tanh', kernel_regularizer=regularizers.L2(0.005)),\n",
    "    Dense(10, activation='softmax')])"
   ]
  },
  {
   "attachments": {},
   "cell_type": "markdown",
   "metadata": {},
   "source": [
    "Ausgabe der Netzstruktur:"
   ]
  },
  {
   "cell_type": "code",
   "execution_count": 4,
   "metadata": {},
   "outputs": [
    {
     "name": "stdout",
     "output_type": "stream",
     "text": [
      "Model: \"sequential\"\n",
      "_________________________________________________________________\n",
      " Layer (type)                Output Shape              Param #   \n",
      "=================================================================\n",
      " flatten (Flatten)           (None, 784)               0         \n",
      "                                                                 \n",
      " dense (Dense)               (None, 1500)              1177500   \n",
      "                                                                 \n",
      " dense_1 (Dense)             (None, 1500)              2251500   \n",
      "                                                                 \n",
      " dense_2 (Dense)             (None, 10)                15010     \n",
      "                                                                 \n",
      "=================================================================\n",
      "Total params: 3,444,010\n",
      "Trainable params: 3,444,010\n",
      "Non-trainable params: 0\n",
      "_________________________________________________________________\n"
     ]
    }
   ],
   "source": [
    "model.summary()"
   ]
  },
  {
   "attachments": {},
   "cell_type": "markdown",
   "metadata": {},
   "source": [
    "Erstellen des Netzes mit Optimierungsmethode (z.B. SGD, RMSprop oder Adam):"
   ]
  },
  {
   "cell_type": "code",
   "execution_count": 5,
   "metadata": {},
   "outputs": [],
   "source": [
    "model.compile(loss='categorical_crossentropy',\n",
    "              optimizer=Adam(),\n",
    "              metrics=['accuracy'])"
   ]
  },
  {
   "attachments": {},
   "cell_type": "markdown",
   "metadata": {},
   "source": [
    "Trainineren des Netzes:"
   ]
  },
  {
   "cell_type": "code",
   "execution_count": 6,
   "metadata": {},
   "outputs": [
    {
     "name": "stdout",
     "output_type": "stream",
     "text": [
      "Epoch 1/50\n",
      "10/10 [==============================] - 9s 784ms/step - loss: 8.0034 - accuracy: 0.6762 - val_loss: 6.5839 - val_accuracy: 0.8626\n",
      "Epoch 2/50\n",
      "10/10 [==============================] - 7s 715ms/step - loss: 5.7653 - accuracy: 0.8755 - val_loss: 4.7612 - val_accuracy: 0.9009\n",
      "Epoch 3/50\n",
      "10/10 [==============================] - 7s 713ms/step - loss: 4.0566 - accuracy: 0.9059 - val_loss: 3.2621 - val_accuracy: 0.9130\n",
      "Epoch 4/50\n",
      "10/10 [==============================] - 7s 710ms/step - loss: 2.7484 - accuracy: 0.9147 - val_loss: 2.1832 - val_accuracy: 0.9213\n",
      "Epoch 5/50\n",
      "10/10 [==============================] - 7s 707ms/step - loss: 1.8435 - accuracy: 0.9192 - val_loss: 1.4771 - val_accuracy: 0.9207\n",
      "Epoch 6/50\n",
      "10/10 [==============================] - 7s 731ms/step - loss: 1.2585 - accuracy: 0.9209 - val_loss: 1.0250 - val_accuracy: 0.9231\n",
      "Epoch 7/50\n",
      "10/10 [==============================] - 7s 732ms/step - loss: 0.8922 - accuracy: 0.9223 - val_loss: 0.7466 - val_accuracy: 0.9253\n",
      "Epoch 8/50\n",
      "10/10 [==============================] - 7s 709ms/step - loss: 0.6657 - accuracy: 0.9247 - val_loss: 0.5800 - val_accuracy: 0.9245\n",
      "Epoch 9/50\n",
      "10/10 [==============================] - 7s 666ms/step - loss: 0.5273 - accuracy: 0.9253 - val_loss: 0.4737 - val_accuracy: 0.9271\n",
      "Epoch 10/50\n",
      "10/10 [==============================] - 7s 722ms/step - loss: 0.4406 - accuracy: 0.9270 - val_loss: 0.4079 - val_accuracy: 0.9275\n",
      "Epoch 11/50\n",
      "10/10 [==============================] - 7s 711ms/step - loss: 0.3849 - accuracy: 0.9285 - val_loss: 0.3652 - val_accuracy: 0.9265\n",
      "Epoch 12/50\n",
      "10/10 [==============================] - 7s 708ms/step - loss: 0.3472 - accuracy: 0.9308 - val_loss: 0.3361 - val_accuracy: 0.9314\n",
      "Epoch 13/50\n",
      "10/10 [==============================] - 7s 706ms/step - loss: 0.3213 - accuracy: 0.9319 - val_loss: 0.3160 - val_accuracy: 0.9288\n",
      "Epoch 14/50\n",
      "10/10 [==============================] - 7s 715ms/step - loss: 0.3024 - accuracy: 0.9333 - val_loss: 0.2992 - val_accuracy: 0.9315\n",
      "Epoch 15/50\n",
      "10/10 [==============================] - 7s 704ms/step - loss: 0.2877 - accuracy: 0.9345 - val_loss: 0.2874 - val_accuracy: 0.9321\n",
      "Epoch 16/50\n",
      "10/10 [==============================] - 7s 725ms/step - loss: 0.2779 - accuracy: 0.9366 - val_loss: 0.2863 - val_accuracy: 0.9326\n",
      "Epoch 17/50\n",
      "10/10 [==============================] - 7s 728ms/step - loss: 0.2694 - accuracy: 0.9370 - val_loss: 0.2762 - val_accuracy: 0.9331\n",
      "Epoch 18/50\n",
      "10/10 [==============================] - 7s 724ms/step - loss: 0.2615 - accuracy: 0.9386 - val_loss: 0.2652 - val_accuracy: 0.9362\n",
      "Epoch 19/50\n",
      "10/10 [==============================] - 7s 701ms/step - loss: 0.2535 - accuracy: 0.9408 - val_loss: 0.2605 - val_accuracy: 0.9380\n",
      "Epoch 20/50\n",
      "10/10 [==============================] - 7s 708ms/step - loss: 0.2490 - accuracy: 0.9416 - val_loss: 0.2527 - val_accuracy: 0.9387\n",
      "Epoch 21/50\n",
      "10/10 [==============================] - 7s 700ms/step - loss: 0.2406 - accuracy: 0.9438 - val_loss: 0.2493 - val_accuracy: 0.9407\n",
      "Epoch 22/50\n",
      "10/10 [==============================] - 7s 696ms/step - loss: 0.2356 - accuracy: 0.9446 - val_loss: 0.2419 - val_accuracy: 0.9418\n",
      "Epoch 23/50\n",
      "10/10 [==============================] - 7s 746ms/step - loss: 0.2305 - accuracy: 0.9462 - val_loss: 0.2386 - val_accuracy: 0.9435\n",
      "Epoch 24/50\n",
      "10/10 [==============================] - 7s 724ms/step - loss: 0.2238 - accuracy: 0.9482 - val_loss: 0.2286 - val_accuracy: 0.9445\n",
      "Epoch 25/50\n",
      "10/10 [==============================] - 7s 703ms/step - loss: 0.2192 - accuracy: 0.9485 - val_loss: 0.2320 - val_accuracy: 0.9447\n",
      "Epoch 26/50\n",
      "10/10 [==============================] - 7s 709ms/step - loss: 0.2123 - accuracy: 0.9514 - val_loss: 0.2251 - val_accuracy: 0.9469\n",
      "Epoch 27/50\n",
      "10/10 [==============================] - 7s 699ms/step - loss: 0.2071 - accuracy: 0.9526 - val_loss: 0.2172 - val_accuracy: 0.9487\n",
      "Epoch 28/50\n",
      "10/10 [==============================] - 7s 710ms/step - loss: 0.2000 - accuracy: 0.9545 - val_loss: 0.2095 - val_accuracy: 0.9502\n",
      "Epoch 29/50\n",
      "10/10 [==============================] - 7s 742ms/step - loss: 0.1948 - accuracy: 0.9560 - val_loss: 0.2041 - val_accuracy: 0.9526\n",
      "Epoch 30/50\n",
      "10/10 [==============================] - 7s 733ms/step - loss: 0.1935 - accuracy: 0.9563 - val_loss: 0.2048 - val_accuracy: 0.9509\n",
      "Epoch 31/50\n",
      "10/10 [==============================] - 7s 706ms/step - loss: 0.1939 - accuracy: 0.9554 - val_loss: 0.2042 - val_accuracy: 0.9525\n",
      "Epoch 32/50\n",
      "10/10 [==============================] - 7s 698ms/step - loss: 0.1870 - accuracy: 0.9580 - val_loss: 0.1990 - val_accuracy: 0.9545\n",
      "Epoch 33/50\n",
      "10/10 [==============================] - 7s 747ms/step - loss: 0.1802 - accuracy: 0.9600 - val_loss: 0.1949 - val_accuracy: 0.9544\n",
      "Epoch 34/50\n",
      "10/10 [==============================] - 7s 725ms/step - loss: 0.1787 - accuracy: 0.9604 - val_loss: 0.2030 - val_accuracy: 0.9523\n",
      "Epoch 35/50\n",
      "10/10 [==============================] - 7s 712ms/step - loss: 0.1778 - accuracy: 0.9601 - val_loss: 0.1865 - val_accuracy: 0.9568\n",
      "Epoch 36/50\n",
      "10/10 [==============================] - 7s 703ms/step - loss: 0.1698 - accuracy: 0.9631 - val_loss: 0.1830 - val_accuracy: 0.9597\n",
      "Epoch 37/50\n",
      "10/10 [==============================] - 7s 732ms/step - loss: 0.1667 - accuracy: 0.9636 - val_loss: 0.1800 - val_accuracy: 0.9582\n",
      "Epoch 38/50\n",
      "10/10 [==============================] - 7s 733ms/step - loss: 0.1654 - accuracy: 0.9633 - val_loss: 0.1820 - val_accuracy: 0.9563\n",
      "Epoch 39/50\n",
      "10/10 [==============================] - 7s 723ms/step - loss: 0.1597 - accuracy: 0.9654 - val_loss: 0.1761 - val_accuracy: 0.9599\n",
      "Epoch 40/50\n",
      "10/10 [==============================] - 7s 723ms/step - loss: 0.1560 - accuracy: 0.9665 - val_loss: 0.1738 - val_accuracy: 0.9603\n",
      "Epoch 41/50\n",
      "10/10 [==============================] - 7s 697ms/step - loss: 0.1556 - accuracy: 0.9658 - val_loss: 0.1833 - val_accuracy: 0.9568\n",
      "Epoch 42/50\n",
      "10/10 [==============================] - 7s 710ms/step - loss: 0.1583 - accuracy: 0.9656 - val_loss: 0.1739 - val_accuracy: 0.9615\n",
      "Epoch 43/50\n",
      "10/10 [==============================] - 7s 708ms/step - loss: 0.1513 - accuracy: 0.9679 - val_loss: 0.1715 - val_accuracy: 0.9609\n",
      "Epoch 44/50\n",
      "10/10 [==============================] - 7s 730ms/step - loss: 0.1461 - accuracy: 0.9684 - val_loss: 0.1627 - val_accuracy: 0.9643\n",
      "Epoch 45/50\n",
      "10/10 [==============================] - 6s 592ms/step - loss: 0.1418 - accuracy: 0.9706 - val_loss: 0.1644 - val_accuracy: 0.9621\n",
      "Epoch 46/50\n",
      "10/10 [==============================] - 7s 678ms/step - loss: 0.1386 - accuracy: 0.9709 - val_loss: 0.1587 - val_accuracy: 0.9648\n",
      "Epoch 47/50\n",
      "10/10 [==============================] - 7s 688ms/step - loss: 0.1372 - accuracy: 0.9721 - val_loss: 0.1555 - val_accuracy: 0.9650\n",
      "Epoch 48/50\n",
      "10/10 [==============================] - 7s 678ms/step - loss: 0.1357 - accuracy: 0.9718 - val_loss: 0.1598 - val_accuracy: 0.9628\n",
      "Epoch 49/50\n",
      "10/10 [==============================] - 7s 690ms/step - loss: 0.1339 - accuracy: 0.9722 - val_loss: 0.1568 - val_accuracy: 0.9664\n",
      "Epoch 50/50\n",
      "10/10 [==============================] - 7s 688ms/step - loss: 0.1336 - accuracy: 0.9722 - val_loss: 0.1678 - val_accuracy: 0.9597\n"
     ]
    }
   ],
   "source": [
    "history = model.fit(x_train, y_train,\n",
    "                    batch_size=6000,\n",
    "                    epochs=50,\n",
    "                    verbose=1,\n",
    "                    validation_data=(x_test, y_test))"
   ]
  },
  {
   "attachments": {},
   "cell_type": "markdown",
   "metadata": {},
   "source": [
    "Berechnen und Bewerten der Netzausgabe nach dem Training:"
   ]
  },
  {
   "cell_type": "code",
   "execution_count": 7,
   "metadata": {},
   "outputs": [
    {
     "name": "stdout",
     "output_type": "stream",
     "text": [
      "\n",
      "Test loss: 0.16775071620941162\n",
      "Test accuracy: 0.9596999883651733\n"
     ]
    }
   ],
   "source": [
    "score = model.evaluate(x_test, y_test, verbose=0)\n",
    "print()\n",
    "print('Test loss:', score[0])\n",
    "print('Test accuracy:', score[1])"
   ]
  },
  {
   "attachments": {},
   "cell_type": "markdown",
   "metadata": {},
   "source": [
    "Ausgabe des Netzfehlers während des Trainingsverlaufes (fuer Trainingsdaten und Testdaten):"
   ]
  },
  {
   "cell_type": "code",
   "execution_count": 8,
   "metadata": {},
   "outputs": [
    {
     "data": {
      "image/png": "[encoded data removed]",
      "text/plain": [
       "<Figure size 432x288 with 1 Axes>"
      ]
     },
     "metadata": {
      "needs_background": "light"
     },
     "output_type": "display_data"
    }
   ],
   "source": [
    "plt.plot(history.history['loss'])\n",
    "plt.plot(history.history['val_loss'])\n",
    "plt.title('model loss')\n",
    "plt.ylabel('loss')\n",
    "plt.xlabel('epoch')\n",
    "plt.legend(['train', 'test'], loc='upper left')\n",
    "plt.show()"
   ]
  },
  {
   "attachments": {},
   "cell_type": "markdown",
   "metadata": {},
   "source": [
    "Ausgabe der Netz-Accuracy waehrend des Trainingsverlaufes (fuer Trainingsdaten und Testdaten):"
   ]
  },
  {
   "cell_type": "code",
   "execution_count": 9,
   "metadata": {},
   "outputs": [
    {
     "data": {
      "image/png": "[encoded data removed]",
      "text/plain": [
       "<Figure size 432x288 with 1 Axes>"
      ]
     },
     "metadata": {
      "needs_background": "light"
     },
     "output_type": "display_data"
    }
   ],
   "source": [
    "plt.plot(history.history['accuracy'])\n",
    "plt.plot(history.history['val_accuracy'])\n",
    "plt.title('model accuracy')\n",
    "plt.ylabel('accuracy')\n",
    "plt.xlabel('epoch')\n",
    "plt.legend(['train', 'test'], loc='lower right')\n",
    "plt.show()"
   ]
  },
  {
   "attachments": {},
   "cell_type": "markdown",
   "metadata": {},
   "source": [
    "Ausgabe der falsch klassifizierten Testdaten-Bilder:"
   ]
  },
  {
   "cell_type": "code",
   "execution_count": 10,
   "metadata": {},
   "outputs": [],
   "source": [
    "# pred = model.predict(x_test)\n",
    "# mask = ~(np.argmax(pred,axis=1)==np.argmax(y_test,axis=1))\n",
    "# wrong_pred=pred[mask,:]\n",
    "# wrong_label=np.argmax(wrong_pred,axis=1)\n",
    "# wrong_y=y_test[mask,:]\n",
    "# wrong_x=x_test[mask,:,:]\n",
    "# print(wrong_pred.shape[0],'out of',pred.shape[0],'false classifications in test dataset (',int(wrong_pred.shape[0]/pred.shape[0]*10000)/100,'% )')\n",
    "\n",
    "# for i in range(wrong_y.shape[0]):\n",
    "#     plt.imshow(1-wrong_x[i,:,:],cmap='gray')\n",
    "#     plt.title(str(np.argmax(wrong_y[i,:]))+' detected as '+str(wrong_label[i]))\n",
    "#     plt.axis('off')\n",
    "#     plt.show()"
   ]
  }
 ],
 "metadata": {
  "kernelspec": {
   "display_name": "Python 3 (ipykernel)",
   "language": "python",
   "name": "python3"
  },
  "language_info": {
   "codemirror_mode": {
    "name": "ipython",
    "version": 3
   },
   "file_extension": ".py",
   "mimetype": "text/x-python",
   "name": "python",
   "nbconvert_exporter": "python",
   "pygments_lexer": "ipython3",
   "version": "3.10.4"
  }
 },
 "nbformat": 4,
 "nbformat_minor": 4
}
