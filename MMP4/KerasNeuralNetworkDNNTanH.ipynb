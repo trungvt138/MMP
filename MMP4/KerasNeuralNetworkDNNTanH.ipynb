{
 "cells": [
  {
   "attachments": {},
   "cell_type": "markdown",
   "metadata": {},
   "source": [
    "### Dieses Notebook zeigt ein einfaches Beispiel für ein flaches neuronales Netz zum Trainieren des MNIST-Datensatzes.\n",
    "\n",
    "Laden der nötigen Bibliotheken:"
   ]
  },
  {
   "cell_type": "code",
   "execution_count": 1,
   "metadata": {},
   "outputs": [],
   "source": [
    "import keras\n",
    "from keras.datasets import mnist\n",
    "from keras.models import Sequential\n",
    "from keras.layers import Flatten, Dense\n",
    "from keras.optimizers import SGD, RMSprop, Adam \n",
    "from keras import regularizers\n",
    "import numpy as np\n",
    "import matplotlib.pyplot as plt"
   ]
  },
  {
   "attachments": {},
   "cell_type": "markdown",
   "metadata": {},
   "source": [
    "Laden und Aufbereiten der Trainingsdaten:"
   ]
  },
  {
   "cell_type": "code",
   "execution_count": 2,
   "metadata": {},
   "outputs": [],
   "source": [
    "(x_train, y_train), (x_test, y_test) = mnist.load_data()\n",
    "x_train = x_train / 255.0\n",
    "x_test  = x_test / 255.0\n",
    "y_train = keras.utils.to_categorical(y_train, 10)\n",
    "y_test =  keras.utils.to_categorical(y_test,  10)"
   ]
  },
  {
   "attachments": {},
   "cell_type": "markdown",
   "metadata": {},
   "source": [
    "Definition des Neuronalen Netzes:\n",
    "(Probieren Sie aus, wie sich das Netz verhält, wenn man statt 'relu' 'tanh' oder 'sigmoid' als Aktivierungsfunktion verwendet und wenn man L2-Regularisierung hinzufügt)"
   ]
  },
  {
   "cell_type": "code",
   "execution_count": 3,
   "metadata": {},
   "outputs": [],
   "source": [
    "model = Sequential([\n",
    "    Flatten(input_shape = (28, 28)),\n",
    "    Dense(1500, activation='tanh'),\n",
    "    Dense(1500, activation='tanh', kernel_regularizer=regularizers.L2(0.005)),\n",
    "    Dense(10, activation='softmax')])"
   ]
  },
  {
   "attachments": {},
   "cell_type": "markdown",
   "metadata": {},
   "source": [
    "Ausgabe der Netzstruktur:"
   ]
  },
  {
   "cell_type": "code",
   "execution_count": 4,
   "metadata": {},
   "outputs": [
    {
     "name": "stdout",
     "output_type": "stream",
     "text": [
      "Model: \"sequential\"\n",
      "_________________________________________________________________\n",
      " Layer (type)                Output Shape              Param #   \n",
      "=================================================================\n",
      " flatten (Flatten)           (None, 784)               0         \n",
      "                                                                 \n",
      " dense (Dense)               (None, 1500)              1177500   \n",
      "                                                                 \n",
      " dense_1 (Dense)             (None, 1500)              2251500   \n",
      "                                                                 \n",
      " dense_2 (Dense)             (None, 10)                15010     \n",
      "                                                                 \n",
      "=================================================================\n",
      "Total params: 3,444,010\n",
      "Trainable params: 3,444,010\n",
      "Non-trainable params: 0\n",
      "_________________________________________________________________\n"
     ]
    }
   ],
   "source": [
    "model.summary()"
   ]
  },
  {
   "attachments": {},
   "cell_type": "markdown",
   "metadata": {},
   "source": [
    "Erstellen des Netzes mit Optimierungsmethode (z.B. SGD, RMSprop oder Adam):"
   ]
  },
  {
   "cell_type": "code",
   "execution_count": 5,
   "metadata": {},
   "outputs": [],
   "source": [
    "model.compile(loss='categorical_crossentropy',\n",
    "              optimizer=Adam(),\n",
    "              metrics=['accuracy'])"
   ]
  },
  {
   "attachments": {},
   "cell_type": "markdown",
   "metadata": {},
   "source": [
    "Trainineren des Netzes:"
   ]
  },
  {
   "cell_type": "code",
   "execution_count": 6,
   "metadata": {},
   "outputs": [
    {
     "name": "stdout",
     "output_type": "stream",
     "text": [
      "Epoch 1/50\n",
      "10/10 [==============================] - 16s 1s/step - loss: 7.8181 - accuracy: 0.6934 - val_loss: 6.4448 - val_accuracy: 0.8742\n",
      "Epoch 2/50\n",
      "10/10 [==============================] - 10s 1s/step - loss: 5.5648 - accuracy: 0.8843 - val_loss: 4.5074 - val_accuracy: 0.9090\n",
      "Epoch 3/50\n",
      "10/10 [==============================] - 11s 1s/step - loss: 3.7832 - accuracy: 0.9089 - val_loss: 2.9741 - val_accuracy: 0.9167\n",
      "Epoch 4/50\n",
      "10/10 [==============================] - 11s 1s/step - loss: 2.4708 - accuracy: 0.9163 - val_loss: 1.9237 - val_accuracy: 0.9204\n",
      "Epoch 5/50\n",
      "10/10 [==============================] - 11s 1s/step - loss: 1.6051 - accuracy: 0.9185 - val_loss: 1.2646 - val_accuracy: 0.9212\n",
      "Epoch 6/50\n",
      "10/10 [==============================] - 11s 1s/step - loss: 1.0696 - accuracy: 0.9208 - val_loss: 0.8644 - val_accuracy: 0.9234\n",
      "Epoch 7/50\n",
      "10/10 [==============================] - 11s 1s/step - loss: 0.7509 - accuracy: 0.9234 - val_loss: 0.6329 - val_accuracy: 0.9233\n",
      "Epoch 8/50\n",
      "10/10 [==============================] - 11s 1s/step - loss: 0.5651 - accuracy: 0.9245 - val_loss: 0.4993 - val_accuracy: 0.9242\n",
      "Epoch 9/50\n",
      "10/10 [==============================] - 11s 1s/step - loss: 0.4563 - accuracy: 0.9262 - val_loss: 0.4173 - val_accuracy: 0.9261\n",
      "Epoch 10/50\n",
      "10/10 [==============================] - 10s 1s/step - loss: 0.3915 - accuracy: 0.9269 - val_loss: 0.3688 - val_accuracy: 0.9278\n",
      "Epoch 11/50\n",
      "10/10 [==============================] - 11s 1s/step - loss: 0.3512 - accuracy: 0.9282 - val_loss: 0.3450 - val_accuracy: 0.9249\n",
      "Epoch 12/50\n",
      "10/10 [==============================] - 11s 1s/step - loss: 0.3266 - accuracy: 0.9285 - val_loss: 0.3173 - val_accuracy: 0.9282\n",
      "Epoch 13/50\n",
      "10/10 [==============================] - 11s 1s/step - loss: 0.3071 - accuracy: 0.9305 - val_loss: 0.3061 - val_accuracy: 0.9273\n",
      "Epoch 14/50\n",
      "10/10 [==============================] - 11s 1s/step - loss: 0.2954 - accuracy: 0.9316 - val_loss: 0.3007 - val_accuracy: 0.9280\n",
      "Epoch 15/50\n",
      "10/10 [==============================] - 11s 1s/step - loss: 0.2849 - accuracy: 0.9326 - val_loss: 0.2857 - val_accuracy: 0.9323\n",
      "Epoch 16/50\n",
      "10/10 [==============================] - 11s 1s/step - loss: 0.2746 - accuracy: 0.9347 - val_loss: 0.2727 - val_accuracy: 0.9362\n",
      "Epoch 17/50\n",
      "10/10 [==============================] - 11s 1s/step - loss: 0.2637 - accuracy: 0.9377 - val_loss: 0.2680 - val_accuracy: 0.9357\n",
      "Epoch 18/50\n",
      "10/10 [==============================] - 10s 1s/step - loss: 0.2540 - accuracy: 0.9409 - val_loss: 0.2605 - val_accuracy: 0.9377\n",
      "Epoch 19/50\n",
      "10/10 [==============================] - 11s 1s/step - loss: 0.2470 - accuracy: 0.9425 - val_loss: 0.2627 - val_accuracy: 0.9377\n",
      "Epoch 20/50\n",
      "10/10 [==============================] - 11s 1s/step - loss: 0.2454 - accuracy: 0.9412 - val_loss: 0.2471 - val_accuracy: 0.9417\n",
      "Epoch 21/50\n",
      "10/10 [==============================] - 11s 1s/step - loss: 0.2355 - accuracy: 0.9452 - val_loss: 0.2420 - val_accuracy: 0.9428\n",
      "Epoch 22/50\n",
      "10/10 [==============================] - 11s 1s/step - loss: 0.2322 - accuracy: 0.9454 - val_loss: 0.2445 - val_accuracy: 0.9407\n",
      "Epoch 23/50\n",
      "10/10 [==============================] - 11s 1s/step - loss: 0.2268 - accuracy: 0.9464 - val_loss: 0.2324 - val_accuracy: 0.9453\n",
      "Epoch 24/50\n",
      "10/10 [==============================] - 11s 1s/step - loss: 0.2199 - accuracy: 0.9492 - val_loss: 0.2275 - val_accuracy: 0.9449\n",
      "Epoch 25/50\n",
      "10/10 [==============================] - 11s 1s/step - loss: 0.2164 - accuracy: 0.9488 - val_loss: 0.2212 - val_accuracy: 0.9476\n",
      "Epoch 26/50\n",
      "10/10 [==============================] - 11s 1s/step - loss: 0.2106 - accuracy: 0.9508 - val_loss: 0.2215 - val_accuracy: 0.9471\n",
      "Epoch 27/50\n",
      "10/10 [==============================] - 11s 1s/step - loss: 0.2040 - accuracy: 0.9531 - val_loss: 0.2153 - val_accuracy: 0.9497\n",
      "Epoch 28/50\n",
      "10/10 [==============================] - 11s 1s/step - loss: 0.1980 - accuracy: 0.9552 - val_loss: 0.2077 - val_accuracy: 0.9504\n",
      "Epoch 29/50\n",
      "10/10 [==============================] - 12s 1s/step - loss: 0.1928 - accuracy: 0.9565 - val_loss: 0.2022 - val_accuracy: 0.9537\n",
      "Epoch 30/50\n",
      "10/10 [==============================] - 11s 1s/step - loss: 0.1910 - accuracy: 0.9571 - val_loss: 0.1979 - val_accuracy: 0.9543\n",
      "Epoch 31/50\n",
      "10/10 [==============================] - 11s 1s/step - loss: 0.1842 - accuracy: 0.9589 - val_loss: 0.1953 - val_accuracy: 0.9539\n",
      "Epoch 32/50\n",
      "10/10 [==============================] - 12s 1s/step - loss: 0.1807 - accuracy: 0.9602 - val_loss: 0.1908 - val_accuracy: 0.9555\n",
      "Epoch 33/50\n",
      "10/10 [==============================] - 12s 1s/step - loss: 0.1776 - accuracy: 0.9610 - val_loss: 0.1918 - val_accuracy: 0.9563\n",
      "Epoch 34/50\n",
      "10/10 [==============================] - 11s 1s/step - loss: 0.1757 - accuracy: 0.9610 - val_loss: 0.1867 - val_accuracy: 0.9567\n",
      "Epoch 35/50\n",
      "10/10 [==============================] - 11s 1s/step - loss: 0.1695 - accuracy: 0.9630 - val_loss: 0.1818 - val_accuracy: 0.9592\n",
      "Epoch 36/50\n",
      "10/10 [==============================] - 9s 859ms/step - loss: 0.1655 - accuracy: 0.9638 - val_loss: 0.1873 - val_accuracy: 0.9562\n",
      "Epoch 37/50\n",
      "10/10 [==============================] - 7s 701ms/step - loss: 0.1647 - accuracy: 0.9641 - val_loss: 0.1802 - val_accuracy: 0.9582\n",
      "Epoch 38/50\n",
      "10/10 [==============================] - 6s 651ms/step - loss: 0.1627 - accuracy: 0.9643 - val_loss: 0.1813 - val_accuracy: 0.9584\n",
      "Epoch 39/50\n",
      "10/10 [==============================] - 7s 683ms/step - loss: 0.1637 - accuracy: 0.9636 - val_loss: 0.1820 - val_accuracy: 0.9596\n",
      "Epoch 40/50\n",
      "10/10 [==============================] - 7s 749ms/step - loss: 0.1629 - accuracy: 0.9634 - val_loss: 0.1787 - val_accuracy: 0.9571\n",
      "Epoch 41/50\n",
      "10/10 [==============================] - 7s 663ms/step - loss: 0.1519 - accuracy: 0.9677 - val_loss: 0.1655 - val_accuracy: 0.9637\n",
      "Epoch 42/50\n",
      "10/10 [==============================] - 6s 598ms/step - loss: 0.1468 - accuracy: 0.9699 - val_loss: 0.1698 - val_accuracy: 0.9608\n",
      "Epoch 43/50\n",
      "10/10 [==============================] - 6s 645ms/step - loss: 0.1463 - accuracy: 0.9690 - val_loss: 0.1685 - val_accuracy: 0.9619\n",
      "Epoch 44/50\n",
      "10/10 [==============================] - 6s 618ms/step - loss: 0.1444 - accuracy: 0.9691 - val_loss: 0.1632 - val_accuracy: 0.9628\n",
      "Epoch 45/50\n",
      "10/10 [==============================] - 8s 816ms/step - loss: 0.1390 - accuracy: 0.9710 - val_loss: 0.1572 - val_accuracy: 0.9654\n",
      "Epoch 46/50\n",
      "10/10 [==============================] - 8s 765ms/step - loss: 0.1356 - accuracy: 0.9725 - val_loss: 0.1619 - val_accuracy: 0.9631\n",
      "Epoch 47/50\n",
      "10/10 [==============================] - 7s 671ms/step - loss: 0.1337 - accuracy: 0.9726 - val_loss: 0.1543 - val_accuracy: 0.9661\n",
      "Epoch 48/50\n",
      "10/10 [==============================] - 7s 667ms/step - loss: 0.1299 - accuracy: 0.9738 - val_loss: 0.1538 - val_accuracy: 0.9649\n",
      "Epoch 49/50\n",
      "10/10 [==============================] - 6s 650ms/step - loss: 0.1275 - accuracy: 0.9739 - val_loss: 0.1478 - val_accuracy: 0.9680\n",
      "Epoch 50/50\n",
      "10/10 [==============================] - 7s 741ms/step - loss: 0.1249 - accuracy: 0.9750 - val_loss: 0.1530 - val_accuracy: 0.9651\n"
     ]
    }
   ],
   "source": [
    "history = model.fit(x_train, y_train,\n",
    "                    batch_size=6000,\n",
    "                    epochs=50,\n",
    "                    verbose=1,\n",
    "                    validation_data=(x_test, y_test))"
   ]
  },
  {
   "attachments": {},
   "cell_type": "markdown",
   "metadata": {},
   "source": [
    "Berechnen und Bewerten der Netzausgabe nach dem Training:"
   ]
  },
  {
   "cell_type": "code",
   "execution_count": 7,
   "metadata": {},
   "outputs": [
    {
     "name": "stdout",
     "output_type": "stream",
     "text": [
      "\n",
      "Test loss: 0.15297602117061615\n",
      "Test accuracy: 0.9650999903678894\n"
     ]
    }
   ],
   "source": [
    "score = model.evaluate(x_test, y_test, verbose=0)\n",
    "print()\n",
    "print('Test loss:', score[0])\n",
    "print('Test accuracy:', score[1])"
   ]
  },
  {
   "attachments": {},
   "cell_type": "markdown",
   "metadata": {},
   "source": [
    "Ausgabe des Netzfehlers während des Trainingsverlaufes (fuer Trainingsdaten und Testdaten):"
   ]
  },
  {
   "cell_type": "code",
   "execution_count": 8,
   "metadata": {},
   "outputs": [
    {
     "data": {
      "image/png": "[encoded data removed]",
      "text/plain": [
       "<Figure size 432x288 with 1 Axes>"
      ]
     },
     "metadata": {
      "needs_background": "light"
     },
     "output_type": "display_data"
    }
   ],
   "source": [
    "plt.plot(history.history['loss'])\n",
    "plt.plot(history.history['val_loss'])\n",
    "plt.title('model loss')\n",
    "plt.ylabel('loss')\n",
    "plt.xlabel('epoch')\n",
    "plt.legend(['train', 'test'], loc='upper left')\n",
    "plt.show()"
   ]
  },
  {
   "attachments": {},
   "cell_type": "markdown",
   "metadata": {},
   "source": [
    "Ausgabe der Netz-Accuracy waehrend des Trainingsverlaufes (fuer Trainingsdaten und Testdaten):"
   ]
  },
  {
   "cell_type": "code",
   "execution_count": 9,
   "metadata": {},
   "outputs": [
    {
     "data": {
      "image/png": "[encoded data removed]",
      "text/plain": [
       "<Figure size 432x288 with 1 Axes>"
      ]
     },
     "metadata": {
      "needs_background": "light"
     },
     "output_type": "display_data"
    }
   ],
   "source": [
    "plt.plot(history.history['accuracy'])\n",
    "plt.plot(history.history['val_accuracy'])\n",
    "plt.title('model accuracy')\n",
    "plt.ylabel('accuracy')\n",
    "plt.xlabel('epoch')\n",
    "plt.legend(['train', 'test'], loc='lower right')\n",
    "plt.show()"
   ]
  },
  {
   "attachments": {},
   "cell_type": "markdown",
   "metadata": {},
   "source": [
    "Ausgabe der falsch klassifizierten Testdaten-Bilder:"
   ]
  },
  {
   "cell_type": "code",
   "execution_count": 10,
   "metadata": {},
   "outputs": [],
   "source": [
    "# pred = model.predict(x_test)\n",
    "# mask = ~(np.argmax(pred,axis=1)==np.argmax(y_test,axis=1))\n",
    "# wrong_pred=pred[mask,:]\n",
    "# wrong_label=np.argmax(wrong_pred,axis=1)\n",
    "# wrong_y=y_test[mask,:]\n",
    "# wrong_x=x_test[mask,:,:]\n",
    "# print(wrong_pred.shape[0],'out of',pred.shape[0],'false classifications in test dataset (',int(wrong_pred.shape[0]/pred.shape[0]*10000)/100,'% )')\n",
    "\n",
    "# for i in range(wrong_y.shape[0]):\n",
    "#     plt.imshow(1-wrong_x[i,:,:],cmap='gray')\n",
    "#     plt.title(str(np.argmax(wrong_y[i,:]))+' detected as '+str(wrong_label[i]))\n",
    "#     plt.axis('off')\n",
    "#     plt.show()"
   ]
  }
 ],
 "metadata": {
  "kernelspec": {
   "display_name": "Python 3 (ipykernel)",
   "language": "python",
   "name": "python3"
  },
  "language_info": {
   "codemirror_mode": {
    "name": "ipython",
    "version": 3
   },
   "file_extension": ".py",
   "mimetype": "text/x-python",
   "name": "python",
   "nbconvert_exporter": "python",
   "pygments_lexer": "ipython3",
   "version": "3.10.4"
  }
 },
 "nbformat": 4,
 "nbformat_minor": 4
}
