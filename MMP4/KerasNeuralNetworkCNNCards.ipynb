{
 "cells": [
  {
   "attachments": {},
   "cell_type": "markdown",
   "metadata": {},
   "source": [
    "### Dieses Notebook zeigt ein einfaches Beispiel für ein flaches neuronales Netz zum Trainieren des MNIST-Datensatzes.\n",
    "\n",
    "Laden der nötigen Bibliotheken:"
   ]
  },
  {
   "cell_type": "code",
   "execution_count": 45,
   "metadata": {},
   "outputs": [],
   "source": [
    "import keras\n",
    "from keras.models import Sequential\n",
    "from keras.layers import Flatten, Dense, Conv2D, MaxPooling2D\n",
    "from keras.optimizers import SGD, RMSprop, Adam \n",
    "from keras import regularizers\n",
    "import numpy as np\n",
    "import matplotlib.pyplot as plt\n",
    "import os\n",
    "import cv2\n",
    "import ssl\n",
    "ssl._create_default_https_context = ssl._create_unverified_context \n",
    "from sklearn.model_selection import train_test_split"
   ]
  },
  {
   "attachments": {},
   "cell_type": "markdown",
   "metadata": {},
   "source": [
    "Laden und Aufbereiten der Trainingsdaten:"
   ]
  },
  {
   "cell_type": "code",
   "execution_count": 46,
   "metadata": {},
   "outputs": [],
   "source": [
    "def read_card_images(folder_path):\n",
    "    x_data = []\n",
    "    y_data = []\n",
    "\n",
    "    # Get the list of files in the folder\n",
    "    file_list = os.listdir(folder_path)\n",
    "\n",
    "    for file_name in file_list:\n",
    "        # Read the image file\n",
    "        image_path = os.path.join(folder_path, file_name)\n",
    "        image = cv2.imread(image_path)\n",
    "\n",
    "        # Preprocess the image (resize, normalize, etc.) if necessary\n",
    "        # ...\n",
    "\n",
    "        # Extract the color information from the image file name\n",
    "        color = file_name.split('_')[1]  # Assuming the file name format is \"color_card.jpg\"\n",
    "\n",
    "        # Convert the color label to a numerical representation (e.g., red=0, green=1, blue=2)\n",
    "        if color == 'r':\n",
    "            label = 0\n",
    "        elif color == 'g':\n",
    "            label = 1\n",
    "        elif color == 'b':\n",
    "            label = 2\n",
    "\n",
    "        # Append the image and label to the data arrays\n",
    "        x_data.append(image)\n",
    "        y_data.append(label)\n",
    "\n",
    "    # Convert the data arrays to NumPy arrays\n",
    "    x_data = np.array(x_data)\n",
    "    y_data = np.array(y_data)\n",
    "\n",
    "    return x_data, y_data"
   ]
  },
  {
   "cell_type": "code",
   "execution_count": 47,
   "metadata": {},
   "outputs": [
    {
     "name": "stdout",
     "output_type": "stream",
     "text": [
      "[[[[196 174 156]\n",
      "   [197 175 157]\n",
      "   [198 176 158]\n",
      "   ...\n",
      "   [203 183 165]\n",
      "   [203 184 163]\n",
      "   [203 184 163]]\n",
      "\n",
      "  [[196 174 156]\n",
      "   [197 175 157]\n",
      "   [198 176 158]\n",
      "   ...\n",
      "   [202 182 164]\n",
      "   [203 184 163]\n",
      "   [203 184 163]]\n",
      "\n",
      "  [[197 175 157]\n",
      "   [197 175 157]\n",
      "   [198 176 158]\n",
      "   ...\n",
      "   [202 182 164]\n",
      "   [203 184 163]\n",
      "   [204 185 164]]\n",
      "\n",
      "  ...\n",
      "\n",
      "  [[199 180 165]\n",
      "   [199 180 165]\n",
      "   [199 180 165]\n",
      "   ...\n",
      "   [208 187 172]\n",
      "   [209 188 173]\n",
      "   [210 189 174]]\n",
      "\n",
      "  [[199 180 165]\n",
      "   [199 180 165]\n",
      "   [199 180 165]\n",
      "   ...\n",
      "   [208 187 172]\n",
      "   [209 188 173]\n",
      "   [210 189 174]]\n",
      "\n",
      "  [[199 180 165]\n",
      "   [199 180 165]\n",
      "   [199 180 165]\n",
      "   ...\n",
      "   [208 187 172]\n",
      "   [209 188 173]\n",
      "   [210 189 174]]]\n",
      "\n",
      "\n",
      " [[[171 179 162]\n",
      "   [171 179 162]\n",
      "   [171 179 162]\n",
      "   ...\n",
      "   [188 196 179]\n",
      "   [189 197 180]\n",
      "   [190 198 181]]\n",
      "\n",
      "  [[171 179 162]\n",
      "   [171 179 162]\n",
      "   [171 179 162]\n",
      "   ...\n",
      "   [189 197 180]\n",
      "   [189 197 180]\n",
      "   [190 198 181]]\n",
      "\n",
      "  [[170 178 161]\n",
      "   [171 179 162]\n",
      "   [171 179 162]\n",
      "   ...\n",
      "   [188 196 179]\n",
      "   [188 196 179]\n",
      "   [188 196 179]]\n",
      "\n",
      "  ...\n",
      "\n",
      "  [[155 165 148]\n",
      "   [155 165 148]\n",
      "   [155 165 148]\n",
      "   ...\n",
      "   [161 174 160]\n",
      "   [161 174 160]\n",
      "   [160 173 159]]\n",
      "\n",
      "  [[155 165 148]\n",
      "   [154 164 147]\n",
      "   [154 164 147]\n",
      "   ...\n",
      "   [160 173 159]\n",
      "   [161 174 160]\n",
      "   [161 174 160]]\n",
      "\n",
      "  [[155 165 148]\n",
      "   [154 164 147]\n",
      "   [154 164 147]\n",
      "   ...\n",
      "   [159 172 158]\n",
      "   [160 173 159]\n",
      "   [160 173 159]]]\n",
      "\n",
      "\n",
      " [[[179 190 174]\n",
      "   [178 189 173]\n",
      "   [178 189 173]\n",
      "   ...\n",
      "   [183 193 180]\n",
      "   [184 194 181]\n",
      "   [185 195 182]]\n",
      "\n",
      "  [[179 190 174]\n",
      "   [178 189 173]\n",
      "   [177 188 172]\n",
      "   ...\n",
      "   [184 194 181]\n",
      "   [184 194 181]\n",
      "   [184 194 181]]\n",
      "\n",
      "  [[179 190 174]\n",
      "   [178 189 173]\n",
      "   [177 188 172]\n",
      "   ...\n",
      "   [184 194 181]\n",
      "   [184 194 181]\n",
      "   [184 194 181]]\n",
      "\n",
      "  ...\n",
      "\n",
      "  [[175 184 164]\n",
      "   [176 185 165]\n",
      "   [175 184 164]\n",
      "   ...\n",
      "   [187 195 178]\n",
      "   [186 194 177]\n",
      "   [186 194 177]]\n",
      "\n",
      "  [[175 184 164]\n",
      "   [176 185 165]\n",
      "   [175 184 164]\n",
      "   ...\n",
      "   [187 195 178]\n",
      "   [187 195 178]\n",
      "   [186 194 177]]\n",
      "\n",
      "  [[174 183 163]\n",
      "   [175 184 164]\n",
      "   [174 183 163]\n",
      "   ...\n",
      "   [186 194 177]\n",
      "   [186 194 177]\n",
      "   [186 194 177]]]\n",
      "\n",
      "\n",
      " ...\n",
      "\n",
      "\n",
      " [[[199 178 150]\n",
      "   [200 179 151]\n",
      "   [200 179 151]\n",
      "   ...\n",
      "   [196 175 153]\n",
      "   [196 175 153]\n",
      "   [196 175 153]]\n",
      "\n",
      "  [[201 180 152]\n",
      "   [201 180 152]\n",
      "   [200 179 151]\n",
      "   ...\n",
      "   [196 175 153]\n",
      "   [196 175 153]\n",
      "   [196 175 153]]\n",
      "\n",
      "  [[200 179 152]\n",
      "   [200 179 152]\n",
      "   [199 178 151]\n",
      "   ...\n",
      "   [196 175 153]\n",
      "   [196 175 153]\n",
      "   [196 175 153]]\n",
      "\n",
      "  ...\n",
      "\n",
      "  [[207 185 160]\n",
      "   [208 186 161]\n",
      "   [207 185 160]\n",
      "   ...\n",
      "   [204 182 157]\n",
      "   [205 183 158]\n",
      "   [205 183 158]]\n",
      "\n",
      "  [[207 185 160]\n",
      "   [208 186 161]\n",
      "   [207 185 160]\n",
      "   ...\n",
      "   [205 183 158]\n",
      "   [205 183 158]\n",
      "   [205 183 158]]\n",
      "\n",
      "  [[206 184 159]\n",
      "   [208 186 161]\n",
      "   [208 186 161]\n",
      "   ...\n",
      "   [205 183 158]\n",
      "   [205 183 158]\n",
      "   [205 183 158]]]\n",
      "\n",
      "\n",
      " [[[119 127 116]\n",
      "   [116 124 113]\n",
      "   [114 122 111]\n",
      "   ...\n",
      "   [119 129 117]\n",
      "   [119 129 117]\n",
      "   [118 128 116]]\n",
      "\n",
      "  [[118 126 115]\n",
      "   [117 125 114]\n",
      "   [116 124 113]\n",
      "   ...\n",
      "   [120 130 118]\n",
      "   [120 130 118]\n",
      "   [119 129 117]]\n",
      "\n",
      "  [[117 125 114]\n",
      "   [118 126 115]\n",
      "   [118 126 115]\n",
      "   ...\n",
      "   [120 130 118]\n",
      "   [119 129 117]\n",
      "   [118 128 116]]\n",
      "\n",
      "  ...\n",
      "\n",
      "  [[145 161 150]\n",
      "   [145 161 150]\n",
      "   [148 162 151]\n",
      "   ...\n",
      "   [146 159 143]\n",
      "   [146 159 143]\n",
      "   [147 160 144]]\n",
      "\n",
      "  [[147 163 152]\n",
      "   [146 162 151]\n",
      "   [149 163 152]\n",
      "   ...\n",
      "   [146 159 143]\n",
      "   [146 159 143]\n",
      "   [147 160 144]]\n",
      "\n",
      "  [[147 163 152]\n",
      "   [146 162 151]\n",
      "   [149 163 152]\n",
      "   ...\n",
      "   [146 159 143]\n",
      "   [146 159 143]\n",
      "   [147 160 144]]]\n",
      "\n",
      "\n",
      " [[[200 188 178]\n",
      "   [200 188 178]\n",
      "   [199 187 177]\n",
      "   ...\n",
      "   [188 172 159]\n",
      "   [188 172 159]\n",
      "   [187 171 158]]\n",
      "\n",
      "  [[201 189 179]\n",
      "   [201 189 179]\n",
      "   [200 188 178]\n",
      "   ...\n",
      "   [187 171 158]\n",
      "   [187 171 158]\n",
      "   [187 171 158]]\n",
      "\n",
      "  [[201 189 179]\n",
      "   [201 189 179]\n",
      "   [200 188 178]\n",
      "   ...\n",
      "   [187 172 156]\n",
      "   [186 171 155]\n",
      "   [186 171 155]]\n",
      "\n",
      "  ...\n",
      "\n",
      "  [[202 188 170]\n",
      "   [202 188 170]\n",
      "   [202 188 170]\n",
      "   ...\n",
      "   [192 172 154]\n",
      "   [192 173 152]\n",
      "   [192 173 152]]\n",
      "\n",
      "  [[202 188 170]\n",
      "   [202 188 170]\n",
      "   [202 188 170]\n",
      "   ...\n",
      "   [193 173 155]\n",
      "   [192 173 152]\n",
      "   [192 173 152]]\n",
      "\n",
      "  [[202 188 170]\n",
      "   [202 188 170]\n",
      "   [202 188 170]\n",
      "   ...\n",
      "   [193 173 155]\n",
      "   [193 174 153]\n",
      "   [192 173 152]]]]\n",
      "[1 2 0 1 1 1 1 0 2 1 0 1 2 1 2 1 2 2 2 0 2 2 1 0 1 1 0 0 2 2 0 0 1 0 2 2 0\n",
      " 0 0 0 1 1 0 0 2 1 1 2 2 1 2 1 0 2 2 2 2 2 1 2 2 0 2 0 0 2 0 2 1 2 1 1 2 0\n",
      " 1 2 2 0 0 2 2 0 1 0 1 0 0 1 1 0 2 1 1 0 0 0 1 1 0 0 1 1 2 0 1 1 1 1 0 2 1\n",
      " 2 1 0 1 0 2 2 2 1 2 0 0 0 2 0 0 0 1 0 0 1 1 0 2 2 2 1 0 2 2 1 2 2 2 0 2 2\n",
      " 2 1 1 2 0 2 2 2 2 0 1 0 1 0 1 0 1 1 0 0 0 0 1 1 0 1 2 1 1 0 0 1 1 0 1 0 1\n",
      " 2 2 0 1 0 1 0 2 1 0 2 0 0 1 1 1 1 1 0 0 1 2 0 2 1 2 0 0 0 2 2 1 0 2 2 2 1\n",
      " 1 2 2 2 0 0 1 0 1 2 1 0 2 1 0 0 0 2 1 1 2 0 1 2 2 1 1 2 0 1 0 2 1 2 1 1 2\n",
      " 2 2 1 2 1 0 1 2 2 1]\n"
     ]
    }
   ],
   "source": [
    "x_data, y_data = read_card_images('cards/')\n",
    "print(x_data)\n",
    "print(y_data)"
   ]
  },
  {
   "cell_type": "code",
   "execution_count": 48,
   "metadata": {},
   "outputs": [],
   "source": [
    "def split_data(x_data, y_data, test_size=0.1, random_state=None):\n",
    "    # Split the data into training and test sets\n",
    "    x_train, x_test, y_train, y_test = train_test_split(\n",
    "        x_data, y_data, test_size=test_size, random_state=random_state)\n",
    "    y_train = keras.utils.to_categorical(y_train, 3)\n",
    "    y_test = keras.utils.to_categorical(y_test, 3)\n",
    "    return x_train, x_test, y_train, y_test\n"
   ]
  },
  {
   "cell_type": "code",
   "execution_count": 49,
   "metadata": {},
   "outputs": [],
   "source": [
    "x_train, x_test, y_train, y_test = split_data(x_data, y_data, test_size=0.1, random_state=42)\n"
   ]
  },
  {
   "cell_type": "code",
   "execution_count": 50,
   "metadata": {},
   "outputs": [],
   "source": [
    "# Define the model\n",
    "model = Sequential([\n",
    "    Conv2D(16, kernel_size=(3, 3), activation='relu', input_shape=(500, 300, 3)),\n",
    "    MaxPooling2D(pool_size=(2, 2)),\n",
    "    Conv2D(16, kernel_size=(3, 3), activation='relu'),\n",
    "    MaxPooling2D(pool_size=(2, 2)),\n",
    "    Flatten(),\n",
    "    Dense(50, activation='relu'),\n",
    "    Dense(3, activation='softmax')\n",
    "])"
   ]
  },
  {
   "attachments": {},
   "cell_type": "markdown",
   "metadata": {},
   "source": [
    "Ausgabe der Netzstruktur:"
   ]
  },
  {
   "cell_type": "code",
   "execution_count": 51,
   "metadata": {},
   "outputs": [
    {
     "name": "stdout",
     "output_type": "stream",
     "text": [
      "Model: \"sequential_4\"\n",
      "_________________________________________________________________\n",
      " Layer (type)                Output Shape              Param #   \n",
      "=================================================================\n",
      " conv2d_8 (Conv2D)           (None, 498, 298, 16)      448       \n",
      "                                                                 \n",
      " max_pooling2d_8 (MaxPooling  (None, 249, 149, 16)     0         \n",
      " 2D)                                                             \n",
      "                                                                 \n",
      " conv2d_9 (Conv2D)           (None, 247, 147, 16)      2320      \n",
      "                                                                 \n",
      " max_pooling2d_9 (MaxPooling  (None, 123, 73, 16)      0         \n",
      " 2D)                                                             \n",
      "                                                                 \n",
      " flatten_4 (Flatten)         (None, 143664)            0         \n",
      "                                                                 \n",
      " dense_8 (Dense)             (None, 50)                7183250   \n",
      "                                                                 \n",
      " dense_9 (Dense)             (None, 3)                 153       \n",
      "                                                                 \n",
      "=================================================================\n",
      "Total params: 7,186,171\n",
      "Trainable params: 7,186,171\n",
      "Non-trainable params: 0\n",
      "_________________________________________________________________\n"
     ]
    }
   ],
   "source": [
    "model.summary()"
   ]
  },
  {
   "attachments": {},
   "cell_type": "markdown",
   "metadata": {},
   "source": [
    "Erstellen des Netzes mit Optimierungsmethode (z.B. SGD, RMSprop oder Adam):"
   ]
  },
  {
   "cell_type": "code",
   "execution_count": 52,
   "metadata": {},
   "outputs": [],
   "source": [
    "model.compile(loss='categorical_crossentropy',\n",
    "              optimizer=Adam(),\n",
    "              metrics=['accuracy'])"
   ]
  },
  {
   "attachments": {},
   "cell_type": "markdown",
   "metadata": {},
   "source": [
    "Trainineren des Netzes:"
   ]
  },
  {
   "cell_type": "code",
   "execution_count": 53,
   "metadata": {},
   "outputs": [
    {
     "name": "stdout",
     "output_type": "stream",
     "text": [
      "Epoch 1/10\n",
      "8/8 [==============================] - 9s 1s/step - loss: 6391.7500 - accuracy: 0.3306 - val_loss: 1189.6232 - val_accuracy: 0.5556\n",
      "Epoch 2/10\n",
      "8/8 [==============================] - 8s 991ms/step - loss: 710.0183 - accuracy: 0.3926 - val_loss: 36.2014 - val_accuracy: 0.7778\n",
      "Epoch 3/10\n",
      "8/8 [==============================] - 7s 926ms/step - loss: 58.9167 - accuracy: 0.6198 - val_loss: 4.9673 - val_accuracy: 0.8519\n",
      "Epoch 4/10\n",
      "8/8 [==============================] - 8s 935ms/step - loss: 10.4387 - accuracy: 0.8099 - val_loss: 3.2245 - val_accuracy: 0.7778\n",
      "Epoch 5/10\n",
      "8/8 [==============================] - 8s 1s/step - loss: 3.1518 - accuracy: 0.8719 - val_loss: 0.2829 - val_accuracy: 0.9630\n",
      "Epoch 6/10\n",
      "8/8 [==============================] - 8s 965ms/step - loss: 1.0550 - accuracy: 0.9628 - val_loss: 0.2639 - val_accuracy: 0.9259\n",
      "Epoch 7/10\n",
      "8/8 [==============================] - 8s 964ms/step - loss: 0.2072 - accuracy: 0.9835 - val_loss: 0.2415 - val_accuracy: 0.9630\n",
      "Epoch 8/10\n",
      "8/8 [==============================] - 8s 959ms/step - loss: 0.0466 - accuracy: 0.9959 - val_loss: 0.0552 - val_accuracy: 0.9630\n",
      "Epoch 9/10\n",
      "8/8 [==============================] - 8s 968ms/step - loss: 0.0866 - accuracy: 0.9917 - val_loss: 7.8645e-04 - val_accuracy: 1.0000\n",
      "Epoch 10/10\n",
      "8/8 [==============================] - 8s 951ms/step - loss: 0.0300 - accuracy: 0.9959 - val_loss: 8.9168e-04 - val_accuracy: 1.0000\n"
     ]
    }
   ],
   "source": [
    "history = model.fit(x_train, y_train,\n",
    "                    batch_size=32,\n",
    "                    epochs=10,\n",
    "                    verbose=1,\n",
    "                    validation_data=(x_test, y_test))"
   ]
  },
  {
   "attachments": {},
   "cell_type": "markdown",
   "metadata": {},
   "source": [
    "Berechnen und Bewerten der Netzausgabe nach dem Training:"
   ]
  },
  {
   "cell_type": "code",
   "execution_count": 54,
   "metadata": {},
   "outputs": [
    {
     "name": "stdout",
     "output_type": "stream",
     "text": [
      "\n",
      "Test loss: 0.0008916766382753849\n",
      "Test accuracy: 1.0\n"
     ]
    }
   ],
   "source": [
    "score = model.evaluate(x_test, y_test, verbose=0)\n",
    "print()\n",
    "print('Test loss:', score[0])\n",
    "print('Test accuracy:', score[1])"
   ]
  },
  {
   "attachments": {},
   "cell_type": "markdown",
   "metadata": {},
   "source": [
    "Ausgabe des Netzfehlers während des Trainingsverlaufes (fuer Trainingsdaten und Testdaten):"
   ]
  },
  {
   "cell_type": "code",
   "execution_count": 55,
   "metadata": {},
   "outputs": [
    {
     "data": {
      "image/png": "[encoded data removed]",
      "text/plain": [
       "<Figure size 432x288 with 1 Axes>"
      ]
     },
     "metadata": {
      "needs_background": "light"
     },
     "output_type": "display_data"
    }
   ],
   "source": [
    "plt.plot(history.history['loss'])\n",
    "plt.plot(history.history['val_loss'])\n",
    "plt.title('model loss')\n",
    "plt.ylabel('loss')\n",
    "plt.xlabel('epoch')\n",
    "plt.legend(['train', 'test'], loc='upper left')\n",
    "plt.show()"
   ]
  },
  {
   "attachments": {},
   "cell_type": "markdown",
   "metadata": {},
   "source": [
    "Ausgabe der Netz-Accuracy waehrend des Trainingsverlaufes (fuer Trainingsdaten und Testdaten):"
   ]
  },
  {
   "cell_type": "code",
   "execution_count": 56,
   "metadata": {},
   "outputs": [
    {
     "data": {
      "image/png": "[encoded data removed]",
      "text/plain": [
       "<Figure size 432x288 with 1 Axes>"
      ]
     },
     "metadata": {
      "needs_background": "light"
     },
     "output_type": "display_data"
    }
   ],
   "source": [
    "plt.plot(history.history['accuracy'])\n",
    "plt.plot(history.history['val_accuracy'])\n",
    "plt.title('model accuracy')\n",
    "plt.ylabel('accuracy')\n",
    "plt.xlabel('epoch')\n",
    "plt.legend(['train', 'test'], loc='lower right')\n",
    "plt.show()"
   ]
  },
  {
   "attachments": {},
   "cell_type": "markdown",
   "metadata": {},
   "source": [
    "Ausgabe der falsch klassifizierten Testdaten-Bilder:"
   ]
  },
  {
   "cell_type": "code",
   "execution_count": 57,
   "metadata": {},
   "outputs": [
    {
     "name": "stdout",
     "output_type": "stream",
     "text": [
      "1/1 [==============================] - 0s 278ms/step\n",
      "0 out of 27 false classifications in test dataset ( 0.0 % )\n"
     ]
    }
   ],
   "source": [
    "pred = model.predict(x_test)\n",
    "mask = ~(np.argmax(pred,axis=1)==np.argmax(y_test,axis=1))\n",
    "wrong_pred=pred[mask,:]\n",
    "wrong_label=np.argmax(wrong_pred,axis=1)\n",
    "wrong_y=y_test[mask,:]\n",
    "wrong_x=x_test[mask,:,:]\n",
    "print(wrong_pred.shape[0],'out of',pred.shape[0],'false classifications in test dataset (',int(wrong_pred.shape[0]/pred.shape[0]*10000)/100,'% )')\n",
    "\n",
    "for i in range(wrong_y.shape[0]):\n",
    "    plt.imshow(1-wrong_x[i,:,:],cmap='gray')\n",
    "    plt.title(str(np.argmax(wrong_y[i,:]))+' detected as '+str(wrong_label[i]))\n",
    "    plt.axis('off')\n",
    "    plt.show()"
   ]
  }
 ],
 "metadata": {
  "kernelspec": {
   "display_name": "Python 3 (ipykernel)",
   "language": "python",
   "name": "python3"
  },
  "language_info": {
   "codemirror_mode": {
    "name": "ipython",
    "version": 3
   },
   "file_extension": ".py",
   "mimetype": "text/x-python",
   "name": "python",
   "nbconvert_exporter": "python",
   "pygments_lexer": "ipython3",
   "version": "3.10.4"
  }
 },
 "nbformat": 4,
 "nbformat_minor": 4
}
