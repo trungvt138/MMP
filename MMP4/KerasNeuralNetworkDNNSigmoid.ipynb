{
 "cells": [
  {
   "attachments": {},
   "cell_type": "markdown",
   "metadata": {},
   "source": [
    "### Dieses Notebook zeigt ein einfaches Beispiel für ein flaches neuronales Netz zum Trainieren des MNIST-Datensatzes.\n",
    "\n",
    "Laden der nötigen Bibliotheken:"
   ]
  },
  {
   "cell_type": "code",
   "execution_count": 11,
   "metadata": {},
   "outputs": [],
   "source": [
    "import keras\n",
    "from keras.datasets import mnist\n",
    "from keras.models import Sequential\n",
    "from keras.layers import Flatten, Dense\n",
    "from keras.optimizers import SGD, RMSprop, Adam \n",
    "from keras import regularizers\n",
    "import numpy as np\n",
    "import matplotlib.pyplot as plt"
   ]
  },
  {
   "attachments": {},
   "cell_type": "markdown",
   "metadata": {},
   "source": [
    "Laden und Aufbereiten der Trainingsdaten:"
   ]
  },
  {
   "cell_type": "code",
   "execution_count": 12,
   "metadata": {},
   "outputs": [],
   "source": [
    "(x_train, y_train), (x_test, y_test) = mnist.load_data()\n",
    "x_train = x_train / 255.0\n",
    "x_test  = x_test / 255.0\n",
    "y_train = keras.utils.to_categorical(y_train, 10)\n",
    "y_test =  keras.utils.to_categorical(y_test,  10)"
   ]
  },
  {
   "attachments": {},
   "cell_type": "markdown",
   "metadata": {},
   "source": [
    "Definition des Neuronalen Netzes:\n",
    "(Probieren Sie aus, wie sich das Netz verhält, wenn man statt 'relu' 'tanh' oder 'sigmoid' als Aktivierungsfunktion verwendet und wenn man L2-Regularisierung hinzufügt)"
   ]
  },
  {
   "cell_type": "code",
   "execution_count": 13,
   "metadata": {},
   "outputs": [],
   "source": [
    "model = Sequential([\n",
    "    Flatten(input_shape = (28, 28)),\n",
    "    Dense(1500, activation='sigmoid'),\n",
    "    Dense(1500, activation='sigmoid', kernel_regularizer=regularizers.L2(0.005)),\n",
    "    Dense(10, activation='softmax')])"
   ]
  },
  {
   "attachments": {},
   "cell_type": "markdown",
   "metadata": {},
   "source": [
    "Ausgabe der Netzstruktur:"
   ]
  },
  {
   "cell_type": "code",
   "execution_count": 14,
   "metadata": {},
   "outputs": [
    {
     "name": "stdout",
     "output_type": "stream",
     "text": [
      "Model: \"sequential_1\"\n",
      "_________________________________________________________________\n",
      " Layer (type)                Output Shape              Param #   \n",
      "=================================================================\n",
      " flatten_1 (Flatten)         (None, 784)               0         \n",
      "                                                                 \n",
      " dense_3 (Dense)             (None, 1500)              1177500   \n",
      "                                                                 \n",
      " dense_4 (Dense)             (None, 1500)              2251500   \n",
      "                                                                 \n",
      " dense_5 (Dense)             (None, 10)                15010     \n",
      "                                                                 \n",
      "=================================================================\n",
      "Total params: 3,444,010\n",
      "Trainable params: 3,444,010\n",
      "Non-trainable params: 0\n",
      "_________________________________________________________________\n"
     ]
    }
   ],
   "source": [
    "model.summary()"
   ]
  },
  {
   "attachments": {},
   "cell_type": "markdown",
   "metadata": {},
   "source": [
    "Erstellen des Netzes mit Optimierungsmethode (z.B. SGD, RMSprop oder Adam):"
   ]
  },
  {
   "cell_type": "code",
   "execution_count": 15,
   "metadata": {},
   "outputs": [],
   "source": [
    "model.compile(loss='categorical_crossentropy',\n",
    "              optimizer=Adam(),\n",
    "              metrics=['accuracy'])"
   ]
  },
  {
   "attachments": {},
   "cell_type": "markdown",
   "metadata": {},
   "source": [
    "Trainineren des Netzes:"
   ]
  },
  {
   "cell_type": "code",
   "execution_count": 16,
   "metadata": {},
   "outputs": [
    {
     "name": "stdout",
     "output_type": "stream",
     "text": [
      "Epoch 1/50\n",
      "10/10 [==============================] - 9s 785ms/step - loss: 9.8120 - accuracy: 0.1479 - val_loss: 8.5339 - val_accuracy: 0.1936\n",
      "Epoch 2/50\n",
      "10/10 [==============================] - 8s 763ms/step - loss: 7.6058 - accuracy: 0.4366 - val_loss: 6.5673 - val_accuracy: 0.4584\n",
      "Epoch 3/50\n",
      "10/10 [==============================] - 7s 708ms/step - loss: 5.8103 - accuracy: 0.5932 - val_loss: 4.8600 - val_accuracy: 0.7908\n",
      "Epoch 4/50\n",
      "10/10 [==============================] - 7s 721ms/step - loss: 4.2821 - accuracy: 0.7537 - val_loss: 3.5813 - val_accuracy: 0.8176\n",
      "Epoch 5/50\n",
      "10/10 [==============================] - 7s 744ms/step - loss: 3.1549 - accuracy: 0.8180 - val_loss: 2.6513 - val_accuracy: 0.8445\n",
      "Epoch 6/50\n",
      "10/10 [==============================] - 7s 721ms/step - loss: 2.3434 - accuracy: 0.8469 - val_loss: 1.9787 - val_accuracy: 0.8621\n",
      "Epoch 7/50\n",
      "10/10 [==============================] - 7s 722ms/step - loss: 1.7619 - accuracy: 0.8657 - val_loss: 1.5019 - val_accuracy: 0.8781\n",
      "Epoch 8/50\n",
      "10/10 [==============================] - 7s 744ms/step - loss: 1.3579 - accuracy: 0.8769 - val_loss: 1.1761 - val_accuracy: 0.8861\n",
      "Epoch 9/50\n",
      "10/10 [==============================] - 7s 742ms/step - loss: 1.0818 - accuracy: 0.8847 - val_loss: 0.9568 - val_accuracy: 0.8924\n",
      "Epoch 10/50\n",
      "10/10 [==============================] - 7s 743ms/step - loss: 0.8967 - accuracy: 0.8900 - val_loss: 0.8078 - val_accuracy: 0.8979\n",
      "Epoch 11/50\n",
      "10/10 [==============================] - 7s 734ms/step - loss: 0.7722 - accuracy: 0.8940 - val_loss: 0.7082 - val_accuracy: 0.9013\n",
      "Epoch 12/50\n",
      "10/10 [==============================] - 7s 716ms/step - loss: 0.6876 - accuracy: 0.8968 - val_loss: 0.6424 - val_accuracy: 0.9019\n",
      "Epoch 13/50\n",
      "10/10 [==============================] - 8s 769ms/step - loss: 0.6301 - accuracy: 0.8983 - val_loss: 0.5947 - val_accuracy: 0.9044\n",
      "Epoch 14/50\n",
      "10/10 [==============================] - 7s 725ms/step - loss: 0.5888 - accuracy: 0.9008 - val_loss: 0.5611 - val_accuracy: 0.9045\n",
      "Epoch 15/50\n",
      "10/10 [==============================] - 8s 760ms/step - loss: 0.5594 - accuracy: 0.9019 - val_loss: 0.5370 - val_accuracy: 0.9062\n",
      "Epoch 16/50\n",
      "10/10 [==============================] - 7s 748ms/step - loss: 0.5370 - accuracy: 0.9045 - val_loss: 0.5148 - val_accuracy: 0.9072\n",
      "Epoch 17/50\n",
      "10/10 [==============================] - 7s 734ms/step - loss: 0.5186 - accuracy: 0.9057 - val_loss: 0.5006 - val_accuracy: 0.9111\n",
      "Epoch 18/50\n",
      "10/10 [==============================] - 7s 754ms/step - loss: 0.5020 - accuracy: 0.9074 - val_loss: 0.4842 - val_accuracy: 0.9102\n",
      "Epoch 19/50\n",
      "10/10 [==============================] - 7s 722ms/step - loss: 0.4887 - accuracy: 0.9096 - val_loss: 0.4730 - val_accuracy: 0.9116\n",
      "Epoch 20/50\n",
      "10/10 [==============================] - 8s 756ms/step - loss: 0.4775 - accuracy: 0.9106 - val_loss: 0.4641 - val_accuracy: 0.9124\n",
      "Epoch 21/50\n",
      "10/10 [==============================] - 7s 726ms/step - loss: 0.4678 - accuracy: 0.9123 - val_loss: 0.4554 - val_accuracy: 0.9132\n",
      "Epoch 22/50\n",
      "10/10 [==============================] - 8s 765ms/step - loss: 0.4588 - accuracy: 0.9129 - val_loss: 0.4461 - val_accuracy: 0.9143\n",
      "Epoch 23/50\n",
      "10/10 [==============================] - 8s 758ms/step - loss: 0.4498 - accuracy: 0.9137 - val_loss: 0.4399 - val_accuracy: 0.9148\n",
      "Epoch 24/50\n",
      "10/10 [==============================] - 8s 755ms/step - loss: 0.4426 - accuracy: 0.9151 - val_loss: 0.4296 - val_accuracy: 0.9166\n",
      "Epoch 25/50\n",
      "10/10 [==============================] - 7s 728ms/step - loss: 0.4363 - accuracy: 0.9150 - val_loss: 0.4229 - val_accuracy: 0.9187\n",
      "Epoch 26/50\n",
      "10/10 [==============================] - 7s 726ms/step - loss: 0.4279 - accuracy: 0.9174 - val_loss: 0.4185 - val_accuracy: 0.9170\n",
      "Epoch 27/50\n",
      "10/10 [==============================] - 8s 757ms/step - loss: 0.4230 - accuracy: 0.9169 - val_loss: 0.4135 - val_accuracy: 0.9212\n",
      "Epoch 28/50\n",
      "10/10 [==============================] - 7s 741ms/step - loss: 0.4153 - accuracy: 0.9194 - val_loss: 0.4050 - val_accuracy: 0.9189\n",
      "Epoch 29/50\n",
      "10/10 [==============================] - 7s 746ms/step - loss: 0.4095 - accuracy: 0.9189 - val_loss: 0.4005 - val_accuracy: 0.9202\n",
      "Epoch 30/50\n",
      "10/10 [==============================] - 7s 747ms/step - loss: 0.4036 - accuracy: 0.9200 - val_loss: 0.3972 - val_accuracy: 0.9208\n",
      "Epoch 31/50\n",
      "10/10 [==============================] - 7s 731ms/step - loss: 0.3982 - accuracy: 0.9214 - val_loss: 0.3898 - val_accuracy: 0.9215\n",
      "Epoch 32/50\n",
      "10/10 [==============================] - 8s 759ms/step - loss: 0.3918 - accuracy: 0.9228 - val_loss: 0.3836 - val_accuracy: 0.9228\n",
      "Epoch 33/50\n",
      "10/10 [==============================] - 7s 723ms/step - loss: 0.3868 - accuracy: 0.9226 - val_loss: 0.3804 - val_accuracy: 0.9224\n",
      "Epoch 34/50\n",
      "10/10 [==============================] - 7s 727ms/step - loss: 0.3827 - accuracy: 0.9237 - val_loss: 0.3771 - val_accuracy: 0.9226\n",
      "Epoch 35/50\n",
      "10/10 [==============================] - 7s 685ms/step - loss: 0.3780 - accuracy: 0.9246 - val_loss: 0.3706 - val_accuracy: 0.9252\n",
      "Epoch 36/50\n",
      "10/10 [==============================] - 7s 713ms/step - loss: 0.3730 - accuracy: 0.9248 - val_loss: 0.3678 - val_accuracy: 0.9248\n",
      "Epoch 37/50\n",
      "10/10 [==============================] - 7s 687ms/step - loss: 0.3713 - accuracy: 0.9247 - val_loss: 0.3651 - val_accuracy: 0.9250\n",
      "Epoch 38/50\n",
      "10/10 [==============================] - 7s 738ms/step - loss: 0.3659 - accuracy: 0.9264 - val_loss: 0.3592 - val_accuracy: 0.9280\n",
      "Epoch 39/50\n",
      "10/10 [==============================] - 7s 693ms/step - loss: 0.3603 - accuracy: 0.9274 - val_loss: 0.3571 - val_accuracy: 0.9265\n",
      "Epoch 40/50\n",
      "10/10 [==============================] - 7s 738ms/step - loss: 0.3567 - accuracy: 0.9273 - val_loss: 0.3507 - val_accuracy: 0.9274\n",
      "Epoch 41/50\n",
      "10/10 [==============================] - 7s 737ms/step - loss: 0.3523 - accuracy: 0.9287 - val_loss: 0.3478 - val_accuracy: 0.9286\n",
      "Epoch 42/50\n",
      "10/10 [==============================] - 7s 736ms/step - loss: 0.3481 - accuracy: 0.9296 - val_loss: 0.3439 - val_accuracy: 0.9302\n",
      "Epoch 43/50\n",
      "10/10 [==============================] - 7s 753ms/step - loss: 0.3445 - accuracy: 0.9302 - val_loss: 0.3405 - val_accuracy: 0.9310\n",
      "Epoch 44/50\n",
      "10/10 [==============================] - 7s 721ms/step - loss: 0.3410 - accuracy: 0.9315 - val_loss: 0.3358 - val_accuracy: 0.9313\n",
      "Epoch 45/50\n",
      "10/10 [==============================] - 7s 713ms/step - loss: 0.3382 - accuracy: 0.9315 - val_loss: 0.3357 - val_accuracy: 0.9321\n",
      "Epoch 46/50\n",
      "10/10 [==============================] - 7s 739ms/step - loss: 0.3355 - accuracy: 0.9314 - val_loss: 0.3339 - val_accuracy: 0.9290\n",
      "Epoch 47/50\n",
      "10/10 [==============================] - 7s 726ms/step - loss: 0.3321 - accuracy: 0.9326 - val_loss: 0.3284 - val_accuracy: 0.9338\n",
      "Epoch 48/50\n",
      "10/10 [==============================] - 7s 725ms/step - loss: 0.3275 - accuracy: 0.9333 - val_loss: 0.3253 - val_accuracy: 0.9322\n",
      "Epoch 49/50\n",
      "10/10 [==============================] - 7s 721ms/step - loss: 0.3248 - accuracy: 0.9333 - val_loss: 0.3222 - val_accuracy: 0.9333\n",
      "Epoch 50/50\n",
      "10/10 [==============================] - 7s 724ms/step - loss: 0.3210 - accuracy: 0.9344 - val_loss: 0.3195 - val_accuracy: 0.9340\n"
     ]
    }
   ],
   "source": [
    "history = model.fit(x_train, y_train,\n",
    "                    batch_size=6000,\n",
    "                    epochs=50,\n",
    "                    verbose=1,\n",
    "                    validation_data=(x_test, y_test))"
   ]
  },
  {
   "attachments": {},
   "cell_type": "markdown",
   "metadata": {},
   "source": [
    "Berechnen und Bewerten der Netzausgabe nach dem Training:"
   ]
  },
  {
   "cell_type": "code",
   "execution_count": 17,
   "metadata": {},
   "outputs": [
    {
     "name": "stdout",
     "output_type": "stream",
     "text": [
      "\n",
      "Test loss: 0.31947097182273865\n",
      "Test accuracy: 0.9340000152587891\n"
     ]
    }
   ],
   "source": [
    "score = model.evaluate(x_test, y_test, verbose=0)\n",
    "print()\n",
    "print('Test loss:', score[0])\n",
    "print('Test accuracy:', score[1])"
   ]
  },
  {
   "attachments": {},
   "cell_type": "markdown",
   "metadata": {},
   "source": [
    "Ausgabe des Netzfehlers während des Trainingsverlaufes (fuer Trainingsdaten und Testdaten):"
   ]
  },
  {
   "cell_type": "code",
   "execution_count": 18,
   "metadata": {},
   "outputs": [
    {
     "data": {
      "image/png": "[encoded data removed]",
      "text/plain": [
       "<Figure size 432x288 with 1 Axes>"
      ]
     },
     "metadata": {
      "needs_background": "light"
     },
     "output_type": "display_data"
    }
   ],
   "source": [
    "plt.plot(history.history['loss'])\n",
    "plt.plot(history.history['val_loss'])\n",
    "plt.title('model loss')\n",
    "plt.ylabel('loss')\n",
    "plt.xlabel('epoch')\n",
    "plt.legend(['train', 'test'], loc='upper left')\n",
    "plt.show()"
   ]
  },
  {
   "attachments": {},
   "cell_type": "markdown",
   "metadata": {},
   "source": [
    "Ausgabe der Netz-Accuracy waehrend des Trainingsverlaufes (fuer Trainingsdaten und Testdaten):"
   ]
  },
  {
   "cell_type": "code",
   "execution_count": 19,
   "metadata": {},
   "outputs": [
    {
     "data": {
      "image/png": "[encoded data removed]",
      "text/plain": [
       "<Figure size 432x288 with 1 Axes>"
      ]
     },
     "metadata": {
      "needs_background": "light"
     },
     "output_type": "display_data"
    }
   ],
   "source": [
    "plt.plot(history.history['accuracy'])\n",
    "plt.plot(history.history['val_accuracy'])\n",
    "plt.title('model accuracy')\n",
    "plt.ylabel('accuracy')\n",
    "plt.xlabel('epoch')\n",
    "plt.legend(['train', 'test'], loc='lower right')\n",
    "plt.show()"
   ]
  },
  {
   "attachments": {},
   "cell_type": "markdown",
   "metadata": {},
   "source": [
    "Ausgabe der falsch klassifizierten Testdaten-Bilder:"
   ]
  },
  {
   "cell_type": "code",
   "execution_count": 20,
   "metadata": {},
   "outputs": [],
   "source": [
    "# pred = model.predict(x_test)\n",
    "# mask = ~(np.argmax(pred,axis=1)==np.argmax(y_test,axis=1))\n",
    "# wrong_pred=pred[mask,:]\n",
    "# wrong_label=np.argmax(wrong_pred,axis=1)\n",
    "# wrong_y=y_test[mask,:]\n",
    "# wrong_x=x_test[mask,:,:]\n",
    "# print(wrong_pred.shape[0],'out of',pred.shape[0],'false classifications in test dataset (',int(wrong_pred.shape[0]/pred.shape[0]*10000)/100,'% )')\n",
    "\n",
    "# for i in range(wrong_y.shape[0]):\n",
    "#     plt.imshow(1-wrong_x[i,:,:],cmap='gray')\n",
    "#     plt.title(str(np.argmax(wrong_y[i,:]))+' detected as '+str(wrong_label[i]))\n",
    "#     plt.axis('off')\n",
    "#     plt.show()"
   ]
  }
 ],
 "metadata": {
  "kernelspec": {
   "display_name": "Python 3 (ipykernel)",
   "language": "python",
   "name": "python3"
  },
  "language_info": {
   "codemirror_mode": {
    "name": "ipython",
    "version": 3
   },
   "file_extension": ".py",
   "mimetype": "text/x-python",
   "name": "python",
   "nbconvert_exporter": "python",
   "pygments_lexer": "ipython3",
   "version": "3.10.4"
  }
 },
 "nbformat": 4,
 "nbformat_minor": 4
}
