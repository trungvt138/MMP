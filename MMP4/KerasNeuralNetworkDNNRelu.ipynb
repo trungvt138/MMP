{
 "cells": [
  {
   "attachments": {},
   "cell_type": "markdown",
   "metadata": {},
   "source": [
    "### Dieses Notebook zeigt ein einfaches Beispiel für ein flaches neuronales Netz zum Trainieren des MNIST-Datensatzes.\n",
    "\n",
    "Laden der nötigen Bibliotheken:"
   ]
  },
  {
   "cell_type": "code",
   "execution_count": 31,
   "metadata": {},
   "outputs": [],
   "source": [
    "import keras\n",
    "from keras.datasets import mnist\n",
    "from keras.models import Sequential\n",
    "from keras.layers import Flatten, Dense\n",
    "from keras.optimizers import SGD, RMSprop, Adam \n",
    "from keras import regularizers\n",
    "import numpy as np\n",
    "import matplotlib.pyplot as plt"
   ]
  },
  {
   "attachments": {},
   "cell_type": "markdown",
   "metadata": {},
   "source": [
    "Laden und Aufbereiten der Trainingsdaten:"
   ]
  },
  {
   "cell_type": "code",
   "execution_count": 32,
   "metadata": {},
   "outputs": [],
   "source": [
    "(x_train, y_train), (x_test, y_test) = mnist.load_data()\n",
    "x_train = x_train / 255.0\n",
    "x_test  = x_test / 255.0\n",
    "y_train = keras.utils.to_categorical(y_train, 10)\n",
    "y_test =  keras.utils.to_categorical(y_test,  10)"
   ]
  },
  {
   "attachments": {},
   "cell_type": "markdown",
   "metadata": {},
   "source": [
    "Definition des Neuronalen Netzes:\n",
    "(Probieren Sie aus, wie sich das Netz verhält, wenn man statt 'relu' 'tanh' oder 'sigmoid' als Aktivierungsfunktion verwendet und wenn man L2-Regularisierung hinzufügt)"
   ]
  },
  {
   "cell_type": "code",
   "execution_count": 33,
   "metadata": {},
   "outputs": [],
   "source": [
    "model = Sequential([\n",
    "    Flatten(input_shape = (28, 28)),\n",
    "    Dense(150, activation='relu'),\n",
    "    Dense(150, activation='relu', kernel_regularizer=regularizers.L2(0.005)),\n",
    "    Dense(10, activation='softmax')])"
   ]
  },
  {
   "attachments": {},
   "cell_type": "markdown",
   "metadata": {},
   "source": [
    "Ausgabe der Netzstruktur:"
   ]
  },
  {
   "cell_type": "code",
   "execution_count": 34,
   "metadata": {},
   "outputs": [
    {
     "name": "stdout",
     "output_type": "stream",
     "text": [
      "Model: \"sequential_3\"\n",
      "_________________________________________________________________\n",
      " Layer (type)                Output Shape              Param #   \n",
      "=================================================================\n",
      " flatten_3 (Flatten)         (None, 784)               0         \n",
      "                                                                 \n",
      " dense_9 (Dense)             (None, 150)               117750    \n",
      "                                                                 \n",
      " dense_10 (Dense)            (None, 150)               22650     \n",
      "                                                                 \n",
      " dense_11 (Dense)            (None, 10)                1510      \n",
      "                                                                 \n",
      "=================================================================\n",
      "Total params: 141,910\n",
      "Trainable params: 141,910\n",
      "Non-trainable params: 0\n",
      "_________________________________________________________________\n"
     ]
    }
   ],
   "source": [
    "model.summary()"
   ]
  },
  {
   "attachments": {},
   "cell_type": "markdown",
   "metadata": {},
   "source": [
    "Erstellen des Netzes mit Optimierungsmethode (z.B. SGD, RMSprop oder Adam):"
   ]
  },
  {
   "cell_type": "code",
   "execution_count": 35,
   "metadata": {},
   "outputs": [],
   "source": [
    "model.compile(loss='categorical_crossentropy',\n",
    "              optimizer=Adam(),\n",
    "              metrics=['accuracy'])"
   ]
  },
  {
   "attachments": {},
   "cell_type": "markdown",
   "metadata": {},
   "source": [
    "Trainineren des Netzes:"
   ]
  },
  {
   "cell_type": "code",
   "execution_count": 36,
   "metadata": {},
   "outputs": [
    {
     "name": "stdout",
     "output_type": "stream",
     "text": [
      "Epoch 1/50\n",
      "10/10 [==============================] - 1s 84ms/step - loss: 2.5355 - accuracy: 0.5414 - val_loss: 1.8730 - val_accuracy: 0.7645\n",
      "Epoch 2/50\n",
      "10/10 [==============================] - 0s 25ms/step - loss: 1.5115 - accuracy: 0.8094 - val_loss: 1.1690 - val_accuracy: 0.8598\n",
      "Epoch 3/50\n",
      "10/10 [==============================] - 0s 26ms/step - loss: 1.0699 - accuracy: 0.8723 - val_loss: 0.9468 - val_accuracy: 0.8964\n",
      "Epoch 4/50\n",
      "10/10 [==============================] - 0s 32ms/step - loss: 0.9056 - accuracy: 0.8966 - val_loss: 0.8344 - val_accuracy: 0.9061\n",
      "Epoch 5/50\n",
      "10/10 [==============================] - 0s 29ms/step - loss: 0.8015 - accuracy: 0.9086 - val_loss: 0.7446 - val_accuracy: 0.9165\n",
      "Epoch 6/50\n",
      "10/10 [==============================] - 0s 28ms/step - loss: 0.7189 - accuracy: 0.9178 - val_loss: 0.6718 - val_accuracy: 0.9231\n",
      "Epoch 7/50\n",
      "10/10 [==============================] - 0s 27ms/step - loss: 0.6506 - accuracy: 0.9239 - val_loss: 0.6120 - val_accuracy: 0.9284\n",
      "Epoch 8/50\n",
      "10/10 [==============================] - 0s 26ms/step - loss: 0.5924 - accuracy: 0.9290 - val_loss: 0.5592 - val_accuracy: 0.9317\n",
      "Epoch 9/50\n",
      "10/10 [==============================] - 0s 27ms/step - loss: 0.5417 - accuracy: 0.9328 - val_loss: 0.5141 - val_accuracy: 0.9358\n",
      "Epoch 10/50\n",
      "10/10 [==============================] - 0s 25ms/step - loss: 0.4969 - accuracy: 0.9367 - val_loss: 0.4720 - val_accuracy: 0.9393\n",
      "Epoch 11/50\n",
      "10/10 [==============================] - 0s 25ms/step - loss: 0.4576 - accuracy: 0.9403 - val_loss: 0.4362 - val_accuracy: 0.9406\n",
      "Epoch 12/50\n",
      "10/10 [==============================] - 0s 25ms/step - loss: 0.4231 - accuracy: 0.9431 - val_loss: 0.4073 - val_accuracy: 0.9432\n",
      "Epoch 13/50\n",
      "10/10 [==============================] - 0s 27ms/step - loss: 0.3926 - accuracy: 0.9458 - val_loss: 0.3784 - val_accuracy: 0.9450\n",
      "Epoch 14/50\n",
      "10/10 [==============================] - 0s 26ms/step - loss: 0.3656 - accuracy: 0.9484 - val_loss: 0.3542 - val_accuracy: 0.9475\n",
      "Epoch 15/50\n",
      "10/10 [==============================] - 0s 28ms/step - loss: 0.3415 - accuracy: 0.9508 - val_loss: 0.3310 - val_accuracy: 0.9505\n",
      "Epoch 16/50\n",
      "10/10 [==============================] - 0s 26ms/step - loss: 0.3202 - accuracy: 0.9526 - val_loss: 0.3108 - val_accuracy: 0.9531\n",
      "Epoch 17/50\n",
      "10/10 [==============================] - 0s 31ms/step - loss: 0.3009 - accuracy: 0.9551 - val_loss: 0.2937 - val_accuracy: 0.9543\n",
      "Epoch 18/50\n",
      "10/10 [==============================] - 0s 34ms/step - loss: 0.2835 - accuracy: 0.9564 - val_loss: 0.2796 - val_accuracy: 0.9549\n",
      "Epoch 19/50\n",
      "10/10 [==============================] - 0s 35ms/step - loss: 0.2698 - accuracy: 0.9577 - val_loss: 0.2658 - val_accuracy: 0.9560\n",
      "Epoch 20/50\n",
      "10/10 [==============================] - 0s 42ms/step - loss: 0.2553 - accuracy: 0.9595 - val_loss: 0.2529 - val_accuracy: 0.9582\n",
      "Epoch 21/50\n",
      "10/10 [==============================] - 0s 35ms/step - loss: 0.2436 - accuracy: 0.9611 - val_loss: 0.2449 - val_accuracy: 0.9576\n",
      "Epoch 22/50\n",
      "10/10 [==============================] - 0s 36ms/step - loss: 0.2322 - accuracy: 0.9621 - val_loss: 0.2309 - val_accuracy: 0.9592\n",
      "Epoch 23/50\n",
      "10/10 [==============================] - 0s 34ms/step - loss: 0.2216 - accuracy: 0.9638 - val_loss: 0.2231 - val_accuracy: 0.9598\n",
      "Epoch 24/50\n",
      "10/10 [==============================] - 0s 37ms/step - loss: 0.2124 - accuracy: 0.9647 - val_loss: 0.2157 - val_accuracy: 0.9606\n",
      "Epoch 25/50\n",
      "10/10 [==============================] - 0s 37ms/step - loss: 0.2044 - accuracy: 0.9653 - val_loss: 0.2071 - val_accuracy: 0.9611\n",
      "Epoch 26/50\n",
      "10/10 [==============================] - 0s 37ms/step - loss: 0.1968 - accuracy: 0.9665 - val_loss: 0.1993 - val_accuracy: 0.9631\n",
      "Epoch 27/50\n",
      "10/10 [==============================] - 0s 33ms/step - loss: 0.1885 - accuracy: 0.9683 - val_loss: 0.1951 - val_accuracy: 0.9624\n",
      "Epoch 28/50\n",
      "10/10 [==============================] - 0s 33ms/step - loss: 0.1830 - accuracy: 0.9681 - val_loss: 0.1889 - val_accuracy: 0.9644\n",
      "Epoch 29/50\n",
      "10/10 [==============================] - 0s 34ms/step - loss: 0.1772 - accuracy: 0.9695 - val_loss: 0.1846 - val_accuracy: 0.9641\n",
      "Epoch 30/50\n",
      "10/10 [==============================] - 0s 33ms/step - loss: 0.1715 - accuracy: 0.9699 - val_loss: 0.1800 - val_accuracy: 0.9642\n",
      "Epoch 31/50\n",
      "10/10 [==============================] - 0s 35ms/step - loss: 0.1668 - accuracy: 0.9703 - val_loss: 0.1763 - val_accuracy: 0.9635\n",
      "Epoch 32/50\n",
      "10/10 [==============================] - 0s 41ms/step - loss: 0.1634 - accuracy: 0.9708 - val_loss: 0.1704 - val_accuracy: 0.9660\n",
      "Epoch 33/50\n",
      "10/10 [==============================] - 0s 33ms/step - loss: 0.1570 - accuracy: 0.9722 - val_loss: 0.1686 - val_accuracy: 0.9654\n",
      "Epoch 34/50\n",
      "10/10 [==============================] - 0s 32ms/step - loss: 0.1531 - accuracy: 0.9727 - val_loss: 0.1649 - val_accuracy: 0.9663\n",
      "Epoch 35/50\n",
      "10/10 [==============================] - 0s 32ms/step - loss: 0.1493 - accuracy: 0.9735 - val_loss: 0.1611 - val_accuracy: 0.9665\n",
      "Epoch 36/50\n",
      "10/10 [==============================] - 0s 33ms/step - loss: 0.1453 - accuracy: 0.9737 - val_loss: 0.1562 - val_accuracy: 0.9671\n",
      "Epoch 37/50\n",
      "10/10 [==============================] - 0s 32ms/step - loss: 0.1422 - accuracy: 0.9748 - val_loss: 0.1534 - val_accuracy: 0.9673\n",
      "Epoch 38/50\n",
      "10/10 [==============================] - 0s 33ms/step - loss: 0.1404 - accuracy: 0.9746 - val_loss: 0.1529 - val_accuracy: 0.9679\n",
      "Epoch 39/50\n",
      "10/10 [==============================] - 0s 36ms/step - loss: 0.1368 - accuracy: 0.9755 - val_loss: 0.1495 - val_accuracy: 0.9681\n",
      "Epoch 40/50\n",
      "10/10 [==============================] - 0s 33ms/step - loss: 0.1335 - accuracy: 0.9758 - val_loss: 0.1472 - val_accuracy: 0.9684\n",
      "Epoch 41/50\n",
      "10/10 [==============================] - 0s 41ms/step - loss: 0.1311 - accuracy: 0.9762 - val_loss: 0.1444 - val_accuracy: 0.9693\n",
      "Epoch 42/50\n",
      "10/10 [==============================] - 0s 38ms/step - loss: 0.1283 - accuracy: 0.9770 - val_loss: 0.1416 - val_accuracy: 0.9701\n",
      "Epoch 43/50\n",
      "10/10 [==============================] - 0s 36ms/step - loss: 0.1251 - accuracy: 0.9771 - val_loss: 0.1422 - val_accuracy: 0.9705\n",
      "Epoch 44/50\n",
      "10/10 [==============================] - 0s 38ms/step - loss: 0.1230 - accuracy: 0.9777 - val_loss: 0.1384 - val_accuracy: 0.9705\n",
      "Epoch 45/50\n",
      "10/10 [==============================] - 0s 38ms/step - loss: 0.1208 - accuracy: 0.9783 - val_loss: 0.1364 - val_accuracy: 0.9707\n",
      "Epoch 46/50\n",
      "10/10 [==============================] - 0s 36ms/step - loss: 0.1189 - accuracy: 0.9787 - val_loss: 0.1369 - val_accuracy: 0.9708\n",
      "Epoch 47/50\n",
      "10/10 [==============================] - 0s 32ms/step - loss: 0.1168 - accuracy: 0.9791 - val_loss: 0.1319 - val_accuracy: 0.9709\n",
      "Epoch 48/50\n",
      "10/10 [==============================] - 0s 32ms/step - loss: 0.1142 - accuracy: 0.9799 - val_loss: 0.1300 - val_accuracy: 0.9723\n",
      "Epoch 49/50\n",
      "10/10 [==============================] - 0s 32ms/step - loss: 0.1122 - accuracy: 0.9805 - val_loss: 0.1294 - val_accuracy: 0.9715\n",
      "Epoch 50/50\n",
      "10/10 [==============================] - 0s 36ms/step - loss: 0.1102 - accuracy: 0.9803 - val_loss: 0.1287 - val_accuracy: 0.9723\n"
     ]
    }
   ],
   "source": [
    "history = model.fit(x_train, y_train,\n",
    "                    batch_size=6000,\n",
    "                    epochs=50,\n",
    "                    verbose=1,\n",
    "                    validation_data=(x_test, y_test))"
   ]
  },
  {
   "attachments": {},
   "cell_type": "markdown",
   "metadata": {},
   "source": [
    "Berechnen und Bewerten der Netzausgabe nach dem Training:"
   ]
  },
  {
   "cell_type": "code",
   "execution_count": 37,
   "metadata": {},
   "outputs": [
    {
     "name": "stdout",
     "output_type": "stream",
     "text": [
      "\n",
      "Test loss: 0.1286529004573822\n",
      "Test accuracy: 0.9722999930381775\n"
     ]
    }
   ],
   "source": [
    "score = model.evaluate(x_test, y_test, verbose=0)\n",
    "print()\n",
    "print('Test loss:', score[0])\n",
    "print('Test accuracy:', score[1])"
   ]
  },
  {
   "attachments": {},
   "cell_type": "markdown",
   "metadata": {},
   "source": [
    "Ausgabe des Netzfehlers während des Trainingsverlaufes (fuer Trainingsdaten und Testdaten):"
   ]
  },
  {
   "cell_type": "code",
   "execution_count": 38,
   "metadata": {},
   "outputs": [
    {
     "data": {
      "image/png": "[encoded data removed]",
      "text/plain": [
       "<Figure size 432x288 with 1 Axes>"
      ]
     },
     "metadata": {
      "needs_background": "light"
     },
     "output_type": "display_data"
    }
   ],
   "source": [
    "plt.plot(history.history['loss'])\n",
    "plt.plot(history.history['val_loss'])\n",
    "plt.title('model loss')\n",
    "plt.ylabel('loss')\n",
    "plt.xlabel('epoch')\n",
    "plt.legend(['train', 'test'], loc='upper left')\n",
    "plt.show()"
   ]
  },
  {
   "attachments": {},
   "cell_type": "markdown",
   "metadata": {},
   "source": [
    "Ausgabe der Netz-Accuracy waehrend des Trainingsverlaufes (fuer Trainingsdaten und Testdaten):"
   ]
  },
  {
   "cell_type": "code",
   "execution_count": 39,
   "metadata": {},
   "outputs": [
    {
     "data": {
      "image/png": "[encoded data removed]",
      "text/plain": [
       "<Figure size 432x288 with 1 Axes>"
      ]
     },
     "metadata": {
      "needs_background": "light"
     },
     "output_type": "display_data"
    }
   ],
   "source": [
    "plt.plot(history.history['accuracy'])\n",
    "plt.plot(history.history['val_accuracy'])\n",
    "plt.title('model accuracy')\n",
    "plt.ylabel('accuracy')\n",
    "plt.xlabel('epoch')\n",
    "plt.legend(['train', 'test'], loc='lower right')\n",
    "plt.show()"
   ]
  },
  {
   "attachments": {},
   "cell_type": "markdown",
   "metadata": {},
   "source": [
    "Ausgabe der falsch klassifizierten Testdaten-Bilder:"
   ]
  },
  {
   "cell_type": "code",
   "execution_count": 40,
   "metadata": {},
   "outputs": [],
   "source": [
    "# pred = model.predict(x_test)\n",
    "# mask = ~(np.argmax(pred,axis=1)==np.argmax(y_test,axis=1))\n",
    "# wrong_pred=pred[mask,:]\n",
    "# wrong_label=np.argmax(wrong_pred,axis=1)\n",
    "# wrong_y=y_test[mask,:]\n",
    "# wrong_x=x_test[mask,:,:]\n",
    "# print(wrong_pred.shape[0],'out of',pred.shape[0],'false classifications in test dataset (',int(wrong_pred.shape[0]/pred.shape[0]*10000)/100,'% )')\n",
    "\n",
    "# for i in range(wrong_y.shape[0]):\n",
    "#     plt.imshow(1-wrong_x[i,:,:],cmap='gray')\n",
    "#     plt.title(str(np.argmax(wrong_y[i,:]))+' detected as '+str(wrong_label[i]))\n",
    "#     plt.axis('off')\n",
    "#     plt.show()"
   ]
  }
 ],
 "metadata": {
  "kernelspec": {
   "display_name": "Python 3 (ipykernel)",
   "language": "python",
   "name": "python3"
  },
  "language_info": {
   "codemirror_mode": {
    "name": "ipython",
    "version": 3
   },
   "file_extension": ".py",
   "mimetype": "text/x-python",
   "name": "python",
   "nbconvert_exporter": "python",
   "pygments_lexer": "ipython3",
   "version": "3.10.4"
  }
 },
 "nbformat": 4,
 "nbformat_minor": 4
}
