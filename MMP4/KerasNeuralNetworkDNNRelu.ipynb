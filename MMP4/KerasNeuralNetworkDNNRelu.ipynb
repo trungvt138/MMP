{
 "cells": [
  {
   "attachments": {},
   "cell_type": "markdown",
   "metadata": {},
   "source": [
    "### Dieses Notebook zeigt ein einfaches Beispiel für ein flaches neuronales Netz zum Trainieren des MNIST-Datensatzes.\n",
    "\n",
    "Laden der nötigen Bibliotheken:"
   ]
  },
  {
   "cell_type": "code",
   "execution_count": 91,
   "metadata": {},
   "outputs": [],
   "source": [
    "import keras\n",
    "from keras.datasets import mnist\n",
    "from keras.models import Sequential\n",
    "from keras.layers import Flatten, Dense\n",
    "from keras.optimizers import SGD, RMSprop, Adam \n",
    "from keras import regularizers\n",
    "import numpy as np\n",
    "import matplotlib.pyplot as plt"
   ]
  },
  {
   "attachments": {},
   "cell_type": "markdown",
   "metadata": {},
   "source": [
    "Laden und Aufbereiten der Trainingsdaten:"
   ]
  },
  {
   "cell_type": "code",
   "execution_count": 92,
   "metadata": {},
   "outputs": [],
   "source": [
    "(x_train, y_train), (x_test, y_test) = mnist.load_data()\n",
    "x_train = x_train / 255.0\n",
    "x_test  = x_test / 255.0\n",
    "y_train = keras.utils.to_categorical(y_train, 10)\n",
    "y_test =  keras.utils.to_categorical(y_test,  10)"
   ]
  },
  {
   "attachments": {},
   "cell_type": "markdown",
   "metadata": {},
   "source": [
    "Definition des Neuronalen Netzes:\n",
    "(Probieren Sie aus, wie sich das Netz verhält, wenn man statt 'relu' 'tanh' oder 'sigmoid' als Aktivierungsfunktion verwendet und wenn man L2-Regularisierung hinzufügt)"
   ]
  },
  {
   "cell_type": "code",
   "execution_count": 93,
   "metadata": {},
   "outputs": [],
   "source": [
    "model = Sequential([\n",
    "    Flatten(input_shape = (28, 28)),\n",
    "    Dense(1500, activation='relu'),\n",
    "    Dense(1500, activation='relu', kernel_regularizer=regularizers.L2(0.005)),\n",
    "    Dense(10, activation='softmax')])"
   ]
  },
  {
   "attachments": {},
   "cell_type": "markdown",
   "metadata": {},
   "source": [
    "Ausgabe der Netzstruktur:"
   ]
  },
  {
   "cell_type": "code",
   "execution_count": 94,
   "metadata": {},
   "outputs": [
    {
     "name": "stdout",
     "output_type": "stream",
     "text": [
      "Model: \"sequential_9\"\n",
      "_________________________________________________________________\n",
      " Layer (type)                Output Shape              Param #   \n",
      "=================================================================\n",
      " flatten_9 (Flatten)         (None, 784)               0         \n",
      "                                                                 \n",
      " dense_27 (Dense)            (None, 1500)              1177500   \n",
      "                                                                 \n",
      " dense_28 (Dense)            (None, 1500)              2251500   \n",
      "                                                                 \n",
      " dense_29 (Dense)            (None, 10)                15010     \n",
      "                                                                 \n",
      "=================================================================\n",
      "Total params: 3,444,010\n",
      "Trainable params: 3,444,010\n",
      "Non-trainable params: 0\n",
      "_________________________________________________________________\n"
     ]
    }
   ],
   "source": [
    "model.summary()"
   ]
  },
  {
   "attachments": {},
   "cell_type": "markdown",
   "metadata": {},
   "source": [
    "Erstellen des Netzes mit Optimierungsmethode (z.B. SGD, RMSprop oder Adam):"
   ]
  },
  {
   "cell_type": "code",
   "execution_count": 95,
   "metadata": {},
   "outputs": [],
   "source": [
    "model.compile(loss='categorical_crossentropy',\n",
    "              optimizer=Adam(),\n",
    "              metrics=['accuracy'])"
   ]
  },
  {
   "attachments": {},
   "cell_type": "markdown",
   "metadata": {},
   "source": [
    "Trainineren des Netzes:"
   ]
  },
  {
   "cell_type": "code",
   "execution_count": 96,
   "metadata": {},
   "outputs": [
    {
     "name": "stdout",
     "output_type": "stream",
     "text": [
      "Epoch 1/50\n",
      "10/10 [==============================] - 7s 643ms/step - loss: 7.0376 - accuracy: 0.7504 - val_loss: 4.9560 - val_accuracy: 0.9025\n",
      "Epoch 2/50\n",
      "10/10 [==============================] - 6s 583ms/step - loss: 3.9340 - accuracy: 0.9078 - val_loss: 2.8262 - val_accuracy: 0.9255\n",
      "Epoch 3/50\n",
      "10/10 [==============================] - 5s 553ms/step - loss: 2.2111 - accuracy: 0.9291 - val_loss: 1.5824 - val_accuracy: 0.9363\n",
      "Epoch 4/50\n",
      "10/10 [==============================] - 6s 585ms/step - loss: 1.2516 - accuracy: 0.9398 - val_loss: 0.9220 - val_accuracy: 0.9424\n",
      "Epoch 5/50\n",
      "10/10 [==============================] - 6s 611ms/step - loss: 0.7514 - accuracy: 0.9481 - val_loss: 0.5820 - val_accuracy: 0.9506\n",
      "Epoch 6/50\n",
      "10/10 [==============================] - 5s 548ms/step - loss: 0.4909 - accuracy: 0.9547 - val_loss: 0.4019 - val_accuracy: 0.9566\n",
      "Epoch 7/50\n",
      "10/10 [==============================] - 6s 577ms/step - loss: 0.3515 - accuracy: 0.9604 - val_loss: 0.3041 - val_accuracy: 0.9586\n",
      "Epoch 8/50\n",
      "10/10 [==============================] - 5s 524ms/step - loss: 0.2744 - accuracy: 0.9631 - val_loss: 0.2485 - val_accuracy: 0.9616\n",
      "Epoch 9/50\n",
      "10/10 [==============================] - 6s 578ms/step - loss: 0.2294 - accuracy: 0.9655 - val_loss: 0.2225 - val_accuracy: 0.9597\n",
      "Epoch 10/50\n",
      "10/10 [==============================] - 5s 550ms/step - loss: 0.2050 - accuracy: 0.9662 - val_loss: 0.1973 - val_accuracy: 0.9648\n",
      "Epoch 11/50\n",
      "10/10 [==============================] - 6s 560ms/step - loss: 0.1782 - accuracy: 0.9711 - val_loss: 0.1757 - val_accuracy: 0.9678\n",
      "Epoch 12/50\n",
      "10/10 [==============================] - 5s 545ms/step - loss: 0.1642 - accuracy: 0.9722 - val_loss: 0.1664 - val_accuracy: 0.9688\n",
      "Epoch 13/50\n",
      "10/10 [==============================] - 5s 543ms/step - loss: 0.1534 - accuracy: 0.9734 - val_loss: 0.1719 - val_accuracy: 0.9656\n",
      "Epoch 14/50\n",
      "10/10 [==============================] - 5s 546ms/step - loss: 0.1490 - accuracy: 0.9746 - val_loss: 0.1538 - val_accuracy: 0.9694\n",
      "Epoch 15/50\n",
      "10/10 [==============================] - 6s 566ms/step - loss: 0.1351 - accuracy: 0.9778 - val_loss: 0.1430 - val_accuracy: 0.9731\n",
      "Epoch 16/50\n",
      "10/10 [==============================] - 6s 572ms/step - loss: 0.1268 - accuracy: 0.9793 - val_loss: 0.1444 - val_accuracy: 0.9694\n",
      "Epoch 17/50\n",
      "10/10 [==============================] - 5s 525ms/step - loss: 0.1247 - accuracy: 0.9784 - val_loss: 0.1397 - val_accuracy: 0.9721\n",
      "Epoch 18/50\n",
      "10/10 [==============================] - 5s 533ms/step - loss: 0.1191 - accuracy: 0.9800 - val_loss: 0.1485 - val_accuracy: 0.9688\n",
      "Epoch 19/50\n",
      "10/10 [==============================] - 5s 521ms/step - loss: 0.1190 - accuracy: 0.9790 - val_loss: 0.1312 - val_accuracy: 0.9740\n",
      "Epoch 20/50\n",
      "10/10 [==============================] - 6s 572ms/step - loss: 0.1134 - accuracy: 0.9815 - val_loss: 0.1347 - val_accuracy: 0.9719\n",
      "Epoch 21/50\n",
      "10/10 [==============================] - 5s 512ms/step - loss: 0.1075 - accuracy: 0.9825 - val_loss: 0.1214 - val_accuracy: 0.9763\n",
      "Epoch 22/50\n",
      "10/10 [==============================] - 5s 538ms/step - loss: 0.1043 - accuracy: 0.9830 - val_loss: 0.1208 - val_accuracy: 0.9765\n",
      "Epoch 23/50\n",
      "10/10 [==============================] - 5s 538ms/step - loss: 0.1003 - accuracy: 0.9840 - val_loss: 0.1247 - val_accuracy: 0.9758\n",
      "Epoch 24/50\n",
      "10/10 [==============================] - 6s 553ms/step - loss: 0.0987 - accuracy: 0.9840 - val_loss: 0.1246 - val_accuracy: 0.9734\n",
      "Epoch 25/50\n",
      "10/10 [==============================] - 5s 516ms/step - loss: 0.0971 - accuracy: 0.9844 - val_loss: 0.1236 - val_accuracy: 0.9747\n",
      "Epoch 26/50\n",
      "10/10 [==============================] - 6s 559ms/step - loss: 0.0941 - accuracy: 0.9852 - val_loss: 0.1178 - val_accuracy: 0.9762\n",
      "Epoch 27/50\n",
      "10/10 [==============================] - 5s 519ms/step - loss: 0.0944 - accuracy: 0.9851 - val_loss: 0.1128 - val_accuracy: 0.9765\n",
      "Epoch 28/50\n",
      "10/10 [==============================] - 5s 525ms/step - loss: 0.0947 - accuracy: 0.9844 - val_loss: 0.1118 - val_accuracy: 0.9780\n",
      "Epoch 29/50\n",
      "10/10 [==============================] - 5s 529ms/step - loss: 0.0893 - accuracy: 0.9864 - val_loss: 0.1208 - val_accuracy: 0.9748\n",
      "Epoch 30/50\n",
      "10/10 [==============================] - 5s 530ms/step - loss: 0.0933 - accuracy: 0.9846 - val_loss: 0.1106 - val_accuracy: 0.9778\n",
      "Epoch 31/50\n",
      "10/10 [==============================] - 6s 585ms/step - loss: 0.0865 - accuracy: 0.9869 - val_loss: 0.1060 - val_accuracy: 0.9802\n",
      "Epoch 32/50\n",
      "10/10 [==============================] - 6s 607ms/step - loss: 0.0795 - accuracy: 0.9889 - val_loss: 0.1043 - val_accuracy: 0.9780\n",
      "Epoch 33/50\n",
      "10/10 [==============================] - 6s 624ms/step - loss: 0.0775 - accuracy: 0.9888 - val_loss: 0.1031 - val_accuracy: 0.9787\n",
      "Epoch 34/50\n",
      "10/10 [==============================] - 6s 622ms/step - loss: 0.0800 - accuracy: 0.9873 - val_loss: 0.1108 - val_accuracy: 0.9757\n",
      "Epoch 35/50\n",
      "10/10 [==============================] - 6s 620ms/step - loss: 0.0761 - accuracy: 0.9898 - val_loss: 0.1021 - val_accuracy: 0.9811\n",
      "Epoch 36/50\n",
      "10/10 [==============================] - 6s 567ms/step - loss: 0.0714 - accuracy: 0.9911 - val_loss: 0.1025 - val_accuracy: 0.9793\n",
      "Epoch 37/50\n",
      "10/10 [==============================] - 6s 571ms/step - loss: 0.0728 - accuracy: 0.9892 - val_loss: 0.1080 - val_accuracy: 0.9774\n",
      "Epoch 38/50\n",
      "10/10 [==============================] - 6s 571ms/step - loss: 0.0768 - accuracy: 0.9883 - val_loss: 0.1101 - val_accuracy: 0.9767\n",
      "Epoch 39/50\n",
      "10/10 [==============================] - 6s 580ms/step - loss: 0.0740 - accuracy: 0.9896 - val_loss: 0.1035 - val_accuracy: 0.9785\n",
      "Epoch 40/50\n",
      "10/10 [==============================] - 6s 603ms/step - loss: 0.0693 - accuracy: 0.9908 - val_loss: 0.0973 - val_accuracy: 0.9801\n",
      "Epoch 41/50\n",
      "10/10 [==============================] - 5s 553ms/step - loss: 0.0687 - accuracy: 0.9904 - val_loss: 0.0995 - val_accuracy: 0.9792\n",
      "Epoch 42/50\n",
      "10/10 [==============================] - 6s 564ms/step - loss: 0.0674 - accuracy: 0.9906 - val_loss: 0.1008 - val_accuracy: 0.9792\n",
      "Epoch 43/50\n",
      "10/10 [==============================] - 6s 568ms/step - loss: 0.0648 - accuracy: 0.9918 - val_loss: 0.0950 - val_accuracy: 0.9805\n",
      "Epoch 44/50\n",
      "10/10 [==============================] - 6s 570ms/step - loss: 0.0628 - accuracy: 0.9920 - val_loss: 0.0908 - val_accuracy: 0.9822\n",
      "Epoch 45/50\n",
      "10/10 [==============================] - 5s 555ms/step - loss: 0.0628 - accuracy: 0.9919 - val_loss: 0.0918 - val_accuracy: 0.9818\n",
      "Epoch 46/50\n",
      "10/10 [==============================] - 6s 570ms/step - loss: 0.0610 - accuracy: 0.9923 - val_loss: 0.0915 - val_accuracy: 0.9803\n",
      "Epoch 47/50\n",
      "10/10 [==============================] - 6s 564ms/step - loss: 0.0575 - accuracy: 0.9936 - val_loss: 0.0920 - val_accuracy: 0.9799\n",
      "Epoch 48/50\n",
      "10/10 [==============================] - 6s 551ms/step - loss: 0.0559 - accuracy: 0.9943 - val_loss: 0.0956 - val_accuracy: 0.9794\n",
      "Epoch 49/50\n",
      "10/10 [==============================] - 6s 563ms/step - loss: 0.0594 - accuracy: 0.9921 - val_loss: 0.1017 - val_accuracy: 0.9776\n",
      "Epoch 50/50\n",
      "10/10 [==============================] - 5s 520ms/step - loss: 0.0601 - accuracy: 0.9922 - val_loss: 0.0950 - val_accuracy: 0.9794\n"
     ]
    }
   ],
   "source": [
    "history = model.fit(x_train, y_train,\n",
    "                    batch_size=6000,\n",
    "                    epochs=50,\n",
    "                    verbose=1,\n",
    "                    validation_data=(x_test, y_test))"
   ]
  },
  {
   "attachments": {},
   "cell_type": "markdown",
   "metadata": {},
   "source": [
    "Berechnen und Bewerten der Netzausgabe nach dem Training:"
   ]
  },
  {
   "cell_type": "code",
   "execution_count": 97,
   "metadata": {},
   "outputs": [
    {
     "name": "stdout",
     "output_type": "stream",
     "text": [
      "\n",
      "Test loss: 0.09501434117555618\n",
      "Test accuracy: 0.9793999791145325\n"
     ]
    }
   ],
   "source": [
    "score = model.evaluate(x_test, y_test, verbose=0)\n",
    "print()\n",
    "print('Test loss:', score[0])\n",
    "print('Test accuracy:', score[1])"
   ]
  },
  {
   "attachments": {},
   "cell_type": "markdown",
   "metadata": {},
   "source": [
    "Ausgabe des Netzfehlers während des Trainingsverlaufes (fuer Trainingsdaten und Testdaten):"
   ]
  },
  {
   "cell_type": "code",
   "execution_count": 98,
   "metadata": {},
   "outputs": [
    {
     "data": {
      "image/png": "[encoded data removed]",
      "text/plain": [
       "<Figure size 432x288 with 1 Axes>"
      ]
     },
     "metadata": {
      "needs_background": "light"
     },
     "output_type": "display_data"
    }
   ],
   "source": [
    "plt.plot(history.history['loss'])\n",
    "plt.plot(history.history['val_loss'])\n",
    "plt.title('model loss')\n",
    "plt.ylabel('loss')\n",
    "plt.xlabel('epoch')\n",
    "plt.legend(['train', 'test'], loc='upper left')\n",
    "plt.show()"
   ]
  },
  {
   "attachments": {},
   "cell_type": "markdown",
   "metadata": {},
   "source": [
    "Ausgabe der Netz-Accuracy waehrend des Trainingsverlaufes (fuer Trainingsdaten und Testdaten):"
   ]
  },
  {
   "cell_type": "code",
   "execution_count": 99,
   "metadata": {},
   "outputs": [
    {
     "data": {
      "image/png": "[encoded data removed]",
      "text/plain": [
       "<Figure size 432x288 with 1 Axes>"
      ]
     },
     "metadata": {
      "needs_background": "light"
     },
     "output_type": "display_data"
    }
   ],
   "source": [
    "plt.plot(history.history['accuracy'])\n",
    "plt.plot(history.history['val_accuracy'])\n",
    "plt.title('model accuracy')\n",
    "plt.ylabel('accuracy')\n",
    "plt.xlabel('epoch')\n",
    "plt.legend(['train', 'test'], loc='lower right')\n",
    "plt.show()"
   ]
  },
  {
   "attachments": {},
   "cell_type": "markdown",
   "metadata": {},
   "source": [
    "Ausgabe der falsch klassifizierten Testdaten-Bilder:"
   ]
  },
  {
   "cell_type": "code",
   "execution_count": 100,
   "metadata": {},
   "outputs": [],
   "source": [
    "# pred = model.predict(x_test)\n",
    "# mask = ~(np.argmax(pred,axis=1)==np.argmax(y_test,axis=1))\n",
    "# wrong_pred=pred[mask,:]\n",
    "# wrong_label=np.argmax(wrong_pred,axis=1)\n",
    "# wrong_y=y_test[mask,:]\n",
    "# wrong_x=x_test[mask,:,:]\n",
    "# print(wrong_pred.shape[0],'out of',pred.shape[0],'false classifications in test dataset (',int(wrong_pred.shape[0]/pred.shape[0]*10000)/100,'% )')\n",
    "\n",
    "# for i in range(wrong_y.shape[0]):\n",
    "#     plt.imshow(1-wrong_x[i,:,:],cmap='gray')\n",
    "#     plt.title(str(np.argmax(wrong_y[i,:]))+' detected as '+str(wrong_label[i]))\n",
    "#     plt.axis('off')\n",
    "#     plt.show()"
   ]
  }
 ],
 "metadata": {
  "kernelspec": {
   "display_name": "Python 3 (ipykernel)",
   "language": "python",
   "name": "python3"
  },
  "language_info": {
   "codemirror_mode": {
    "name": "ipython",
    "version": 3
   },
   "file_extension": ".py",
   "mimetype": "text/x-python",
   "name": "python",
   "nbconvert_exporter": "python",
   "pygments_lexer": "ipython3",
   "version": "3.10.4"
  }
 },
 "nbformat": 4,
 "nbformat_minor": 4
}
