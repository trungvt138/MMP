{
 "cells": [
  {
   "cell_type": "code",
   "execution_count": 58,
   "metadata": {},
   "outputs": [],
   "source": [
    "import numpy as np\n",
    "import   matplotlib                 # https://matplotlib.org/3.1.1/tutorials/index.html\n",
    "import   matplotlib.pyplot as plt   # https://matplotlib.org/tutorials/introductory/pyplot.html"
   ]
  },
  {
   "cell_type": "code",
   "execution_count": 59,
   "metadata": {},
   "outputs": [],
   "source": [
    "x_data = np.array(\n",
    "[[-5.32783010e-01, -1.64847081e+00], [-5.50226372e-01, -1.16166152e+01], [ 1.38862276e+00, -1.43580590e+00], [ 1.37033956e+00, -6.40220712e-01],\n",
    " [-8.80606388e-01, -9.70946740e+00], [-2.22746033e+00, -1.01019963e+01], [-3.83660791e+00, -9.36311253e+00], [-2.61500332e-01, -1.80587922e+00],\n",
    " [ 1.18267985e+00, -7.12729660e-01], [-8.91135194e-01, -8.05385981e+00], [-3.42244116e+00, -9.43290706e+00], [-3.24159714e+00, -7.66373146e+00],\n",
    " [-8.14411765e-02, -1.76413571e+00], [ 2.82215236e+00, -1.76342807e+00], [ 1.90632766e+00, -2.43499725e+00], [ 1.12041042e+00, -2.18272234e+00],\n",
    " [ 4.12652646e-01, -9.79048994e-01], [-1.61986103e+00, -9.03645942e+00], [ 1.24676117e+00, -7.71255216e-01], [-2.01362140e+00, -1.04568119e+01],\n",
    " [-6.48510353e-01, -9.47763290e+00], [ 1.90763236e+00, -6.71105011e-01], [-7.57264801e-01, -9.34864598e+00], [ 2.18263294e+00, -9.04732063e-01],\n",
    " [ 1.53216357e+00, -1.64513848e+00], [ 1.12431439e+00, -4.99224897e-01], [ 1.19440189e+00, -1.98887161e+00], [-2.43377785e+00, -7.81776395e+00],\n",
    " [ 3.50550070e-01, -1.66237773e+00], [-7.52076469e-01, -1.07890279e+01], [ 8.37695007e-01,  2.82956613e-01], [ 1.86418091e+00, -6.31399082e-01],\n",
    " [ 2.07793008e+00, -1.63900470e+00], [-3.16320932e+00, -1.03653101e+01], [ 2.09100144e+00,  1.43914678e-01], [-1.51976189e+00, -1.16545682e+01],\n",
    " [ 1.57354644e+00, -2.17601731e+00], [-1.23648559e+00, -1.06552971e+01], [-2.89251066e-01,  6.01148326e-01], [ 2.60959954e-01, -9.83393657e+00],\n",
    " [ 1.39785819e+00, -1.10283073e+01], [-8.24930811e-01, -8.13917717e+00], [-1.63748148e+00,  6.23742032e-01], [-1.76520757e+00, -9.11304244e+00],\n",
    " [ 5.01485985e-01, -2.61100847e+00], [ 6.65365354e-01,  9.58359846e-01], [-1.05318015e+00, -1.14330184e+01], [ 6.02120538e-01, -9.93193935e+00],\n",
    " [-8.79142411e-01, -8.88688615e+00], [ 3.69806196e-01, -8.65765515e-02], [-1.94963972e+00, -1.07284683e+01], [ 1.05673513e+00, -2.69907047e+00],\n",
    " [ 2.16363071e+00, -8.46207098e+00], [-4.14163801e-01, -8.17085180e+00], [-4.78938837e-02, -1.19422587e+01], [-1.47904469e+00, -9.56255496e+00],\n",
    " [-1.01070298e+00, -1.05196934e+01], [-1.94651523e+00, -8.94765931e+00], [-2.76985304e+00, -9.74583819e+00], [-2.15069401e+00, -9.38937963e+00],\n",
    " [ 8.09502872e-01, -2.80255275e+00], [ 2.56504894e+00, -2.90121881e+00], [-1.21184474e-01, -1.40749481e+00], [-1.60928556e+00, -8.67191304e+00],\n",
    " [-2.15303534e-01, -1.74140074e+00], [-1.57009042e+00, -1.00242035e+01], [ 1.37655575e+00, -4.80766013e-01], [-1.99166131e+00, -1.09928863e+01],\n",
    " [ 1.75487048e+00, -1.67100033e+00], [ 1.02744330e+00, -3.01614038e+00], [-1.62140407e+00, -1.00697216e+01], [ 5.16310310e-01, -7.53462894e-01],\n",
    " [ 6.10546511e-01, -2.21333060e+00], [ 1.00754280e-01, -2.18851103e+00], [ 8.11524834e-01, -1.70866587e+00], [-1.67455485e+00, -9.55966966e+00],\n",
    " [ 2.07284370e+00, -2.05152586e+00], [-1.06568358e+00, -8.00444431e+00], [ 2.39559403e+00, -9.75791345e-01], [ 2.00207060e+00, -4.97263283e-01],\n",
    " [ 3.02306437e+00, -2.41788829e+00], [-3.90196076e-01, -3.42042542e+00], [-9.49674615e-01, -9.46539680e-01], [ 1.34595337e+00,  7.06042557e-01],\n",
    " [-6.38194139e-01, -9.43110624e+00], [ 9.06891914e-01, -1.61345206e+00], [-1.49987326e+00, -1.23210622e+00], [-1.27170922e-01, -1.97912985e+00],\n",
    " [ 6.61771687e-01, -2.71105436e+00], [-2.46989189e+00, -9.02672818e+00], [-2.20211525e+00, -9.64573124e+00], [ 1.05336305e+00, -1.12650924e+00],\n",
    " [ 3.93298869e-01, -9.86498477e-01], [ 1.63390085e+00, -8.48880402e-01], [-4.40962962e-01, -8.15573102e+00], [-7.29590706e-01, -8.70943181e+00],\n",
    " [-2.83669071e+00, -8.59284788e+00], [ 5.30737681e+00, -4.31375226e-01], [ 9.90932790e-01, -1.43980862e+00], [-1.28009171e+00, -8.91200516e+00],\n",
    " [-1.72038426e+00, -9.62042071e+00], [-1.68069426e+00, -9.41166190e+00], [ 2.13334628e+00, -3.46263782e-01], [-3.24949022e-01, -3.08480293e-01],\n",
    " [-7.53151890e-01, -1.03678998e+01], [ 2.60159789e+00, -3.37869021e+00], [-2.29717776e-01, -9.88162251e+00], [-1.40024432e+00, -1.00045583e+01],\n",
    " [-1.63586502e+00, -9.72946860e+00], [-7.41560748e-01, -2.00299703e+00], [-7.01075210e-01, -7.07465695e+00], [ 1.08288221e+00, -5.94951156e-01],\n",
    " [-1.15501512e-01, -1.13346390e+01], [-2.39095179e+00, -1.04359334e+01], [-3.10495944e+00, -8.38861021e+00], [-1.56261177e+00, -7.13854024e+00],\n",
    " [-4.07252389e+00, -9.57750062e+00], [-1.30018898e+00, -8.24772408e+00], [-4.90538865e-01, -1.05249244e+01], [ 1.40959572e+00, -1.62390046e+00],\n",
    " [-1.70418884e+00, -1.09352200e+01], [ 1.55495238e-01, -8.20269545e+00], [-1.47252136e+00, -8.41062790e+00], [-1.97784850e-01, -2.03634408e+00],\n",
    " [-5.49094079e-01, -8.74918828e+00], [-1.59939272e+00, -6.76691575e+00], [-2.03531849e+00, -1.00940607e+01], [-8.06521224e-01, -1.37402369e+00],\n",
    " [ 1.40306083e+00, -2.69267265e-01], [-6.05043919e-02, -9.07609341e+00], [-1.96601474e+00, -8.59689627e+00], [ 2.16703063e+00, -1.58150634e+00],\n",
    " [-1.13128258e+00, -1.01218094e+00], [-1.61012617e-01, -2.00915932e+00], [-1.32165071e+00, -9.13917176e+00], [-2.21284571e-01,  2.18426780e-03],\n",
    " [ 4.89265190e-01, -2.36418370e+00], [ 8.25539221e-01, -7.17158260e-01], [-2.06536645e+00, -9.47199885e+00], [ 3.43955298e-01, -8.95817959e-01],\n",
    " [-2.90411030e+00, -1.16682599e+01], [ 9.85268362e-01, -2.27407434e+00], [-2.39394095e+00, -8.86022552e+00], [-2.77238005e+00, -9.64264532e+00],\n",
    " [ 6.46997402e-01, -9.01875100e+00], [-7.14090721e-01, -1.01074430e+01], [ 2.60170010e-01, -1.04160339e+00], [-2.35258742e+00, -9.02745988e+00]])\n",
    "y_data=np.array([1, 0, 1, 1, 0, 0, 0, 1, 1, 0, 0, 0, 1, 1, 1, 1, 1, 0, 1, 0, 0, 1, 0, 1, 1, 1, 1, 0, 1, 0, 1, 1, 1, 0, 1, 0, 1, 0, 1, 0, 0, 0, 1, 0,\n",
    "       1, 1, 0, 0, 0, 1, 0, 1, 0, 0, 0, 0, 0, 0, 0, 0, 1, 1, 1, 0, 1, 0, 1, 0, 1, 1, 0, 1, 1, 1, 1, 0, 1, 0, 1, 1, 1, 1, 1, 1, 0, 1, 1, 1,\n",
    "       1, 0, 0, 1, 1, 1, 0, 0, 0, 1, 1, 0, 0, 0, 1, 1, 0, 1, 0, 0, 0, 1, 0, 1, 0, 0, 0, 0, 0, 0, 0, 1, 0, 0, 0, 1, 0, 0, 0, 1, 1, 0, 0, 1,\n",
    "       1, 1, 0, 1, 1, 1, 0, 1, 0, 1, 0, 0, 0, 0, 1, 0])"
   ]
  },
  {
   "cell_type": "code",
   "execution_count": 60,
   "metadata": {},
   "outputs": [
    {
     "data": {
      "text/plain": [
       "Text(0.5, 1.0, 'Classification Data with 2 classes')"
      ]
     },
     "execution_count": 60,
     "metadata": {},
     "output_type": "execute_result"
    },
    {
     "data": {
      "image/png": "[encoded data removed]",
      "text/plain": [
       "<Figure size 720x720 with 1 Axes>"
      ]
     },
     "metadata": {
      "needs_background": "light"
     },
     "output_type": "display_data"
    }
   ],
   "source": [
    "fig = plt.figure(figsize=(10,10))\n",
    "plt.plot(x_data[y_data == 0, 0], x_data[y_data == 0, 1], 'rs')\n",
    "plt.plot(x_data[y_data == 1, 0], x_data[y_data == 1, 1], 'go')\n",
    "plt.xlabel(\"feature 1\")\n",
    "plt.ylabel(\"feature 2\")\n",
    "plt.title('Classification Data with 2 classes')"
   ]
  },
  {
   "cell_type": "code",
   "execution_count": 61,
   "metadata": {},
   "outputs": [],
   "source": [
    "def PerzeptronLernen(m_plus, m_minus, iters=10):\n",
    "    itemCount = len(m_plus) + len(m_minus)\n",
    "    w = np.ones(len(m_plus[0]))\n",
    "    ws = []\n",
    "    corrs = []\n",
    "    \n",
    "    for i in range(iters):\n",
    "        errs = False\n",
    "        corr = itemCount\n",
    "        for x in m_plus:\n",
    "            if np.dot(w,x)<0:\n",
    "                w += x\n",
    "                corr -=1\n",
    "        for x in m_minus:\n",
    "            if np.dot(w,x)>=0:\n",
    "                w -= x\n",
    "                corr -=1\n",
    "                \n",
    "        corrs.append(corr/float(itemCount))\n",
    "        ws.append(w.copy())\n",
    "        \n",
    "        if corr == itemCount:\n",
    "            print(f\"Result found at iter: {i}\")\n",
    "            return ws, corrs\n",
    "    print(f\"Result not found after {iters} iterations.\")\n",
    "    return ws, corrs"
   ]
  },
  {
   "cell_type": "code",
   "execution_count": 62,
   "metadata": {},
   "outputs": [],
   "source": [
    "def PerzeptronLernenDelta(m_plus, m_minus, iters=10):\n",
    "    itemCount = len(m_plus) + len(m_minus)\n",
    "    w = np.ones(len(m_plus[0]))\n",
    "    ws = []\n",
    "    corrs = []\n",
    "    eta = 0.3\n",
    "\n",
    "    for i in range(iters):\n",
    "        corr = itemCount\n",
    "        for x in m_plus + m_minus:\n",
    "            if any(np.array_equal(x, elem) for elem in m_plus): \n",
    "                tx = 1 \n",
    "            else: \n",
    "                tx = 0\n",
    "\n",
    "            if np.dot(w,x) > 0: \n",
    "                o = 1 \n",
    "            else: \n",
    "                o = 0\n",
    "                \n",
    "            delta = o - tx\n",
    "            if delta != 0: corr -= 1\n",
    "            dW = -eta*delta*x\n",
    "            w += dW\n",
    "        \n",
    "        corrs.append(corr/float(itemCount))\n",
    "        ws.append(w.copy())\n",
    "        \n",
    "        if corr == itemCount:\n",
    "            print(f\"Result found at iter: {i}\")\n",
    "            return ws, corrs\n",
    "    print(f\"Result not found after {iters} iterations.\")\n",
    "    return ws, corrs\n",
    "        "
   ]
  },
  {
   "cell_type": "code",
   "execution_count": 63,
   "metadata": {},
   "outputs": [],
   "source": [
    "m_plus = [np.append(x, 1.0) for x in x_data[y_data == 0]]\n",
    "m_minus = [np.append(x, 1.0) for x in x_data[y_data == 1]]"
   ]
  },
  {
   "cell_type": "code",
   "execution_count": 64,
   "metadata": {},
   "outputs": [
    {
     "name": "stdout",
     "output_type": "stream",
     "text": [
      "Result found at iter: 1\n"
     ]
    }
   ],
   "source": [
    "ws, res = PerzeptronLernenDelta(m_plus, m_minus)"
   ]
  },
  {
   "cell_type": "code",
   "execution_count": 65,
   "metadata": {},
   "outputs": [
    {
     "data": {
      "text/plain": [
       "[array([-0.08484321, -0.08281196, -0.5       ]),\n",
       " array([-0.08484321, -0.08281196, -0.5       ])]"
      ]
     },
     "execution_count": 65,
     "metadata": {},
     "output_type": "execute_result"
    }
   ],
   "source": [
    "ws"
   ]
  },
  {
   "cell_type": "code",
   "execution_count": 66,
   "metadata": {},
   "outputs": [
    {
     "data": {
      "text/plain": [
       "[0.5138639799648587, 0.5138639799648587]"
      ]
     },
     "execution_count": 66,
     "metadata": {},
     "output_type": "execute_result"
    }
   ],
   "source": [
    "[np.linalg.norm(x) for x in ws]"
   ]
  },
  {
   "cell_type": "code",
   "execution_count": 67,
   "metadata": {},
   "outputs": [
    {
     "data": {
      "text/plain": [
       "[0.9527027027027027, 1.0]"
      ]
     },
     "execution_count": 67,
     "metadata": {},
     "output_type": "execute_result"
    }
   ],
   "source": [
    "res"
   ]
  },
  {
   "cell_type": "code",
   "execution_count": 68,
   "metadata": {},
   "outputs": [
    {
     "data": {
      "text/plain": [
       "<matplotlib.legend.Legend at 0x212face99c0>"
      ]
     },
     "execution_count": 68,
     "metadata": {},
     "output_type": "execute_result"
    },
    {
     "data": {
      "image/png": "[encoded data removed]",
      "text/plain": [
       "<Figure size 720x720 with 1 Axes>"
      ]
     },
     "metadata": {
      "needs_background": "light"
     },
     "output_type": "display_data"
    }
   ],
   "source": [
    "def f(x,w):\n",
    "    return -x*(w[0]/w[1])-w[2]/w[1]\n",
    "\n",
    "fig = plt.figure(figsize=(10,10))\n",
    "plt.plot(x_data[y_data == 0, 0], x_data[y_data == 0, 1], 'rs')\n",
    "plt.plot(x_data[y_data == 1, 0], x_data[y_data == 1, 1], 'go')\n",
    "for i,w in enumerate(ws):\n",
    "    plt.plot([-5,5], [f(-5,w), f(5,w)], label=f\"{i}\")\n",
    "plt.xlabel(\"feature 1\")\n",
    "plt.ylabel(\"feature 2\")\n",
    "plt.ylim(-14,4)\n",
    "plt.title('Classification Data with 2 classes')\n",
    "plt.legend()"
   ]
  },
  {
   "cell_type": "code",
   "execution_count": null,
   "metadata": {},
   "outputs": [],
   "source": []
  },
  {
   "cell_type": "code",
   "execution_count": null,
   "metadata": {},
   "outputs": [],
   "source": []
  }
 ],
 "metadata": {
  "kernelspec": {
   "display_name": "Python 3 (ipykernel)",
   "language": "python",
   "name": "python3"
  },
  "language_info": {
   "codemirror_mode": {
    "name": "ipython",
    "version": 3
   },
   "file_extension": ".py",
   "mimetype": "text/x-python",
   "name": "python",
   "nbconvert_exporter": "python",
   "pygments_lexer": "ipython3",
   "version": "3.10.4"
  }
 },
 "nbformat": 4,
 "nbformat_minor": 4
}
